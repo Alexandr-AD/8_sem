{
 "cells": [
  {
   "attachments": {},
   "cell_type": "markdown",
   "metadata": {},
   "source": [
    "\n",
    "# Лабораторная 3\n",
    "\n",
    "## ИУ5-85 Кириллов Денис\n",
    "## Вариант 6\n",
    "\n",
    "## Задача 1\n",
    "\n",
    "Цепь Маркова с дискретным временем\n",
    "\n",
    "Одноканальная система -> один сервер"
   ]
  },
  {
   "cell_type": "code",
   "execution_count": 2,
   "metadata": {
    "vscode": {
     "languageId": "r"
    }
   },
   "outputs": [
    {
     "data": {
      "text/html": [
       "<table class=\"dataframe\">\n",
       "<caption>A data.frame: 4 × 4</caption>\n",
       "<thead>\n",
       "\t<tr><th></th><th scope=col></th><th scope=col></th><th scope=col></th><th scope=col></th></tr>\n",
       "\t<tr><th></th><th scope=col>&lt;dbl&gt;</th><th scope=col>&lt;dbl&gt;</th><th scope=col>&lt;dbl&gt;</th><th scope=col>&lt;dbl&gt;</th></tr>\n",
       "</thead>\n",
       "<tbody>\n",
       "\t<tr><th scope=row>p1</th><td>0.3923892</td><td>0.1106274</td><td>0.1590636</td><td>0.3379198</td></tr>\n",
       "\t<tr><th scope=row>p2</th><td>0.0000000</td><td>0.3624192</td><td>0.3549557</td><td>0.2826250</td></tr>\n",
       "\t<tr><th scope=row>p3</th><td>0.0000000</td><td>0.0000000</td><td>0.8876956</td><td>0.1123044</td></tr>\n",
       "\t<tr><th scope=row>p4</th><td>0.0000000</td><td>0.0000000</td><td>0.0000000</td><td>1.0000000</td></tr>\n",
       "</tbody>\n",
       "</table>\n"
      ],
      "text/latex": [
       "A data.frame: 4 × 4\n",
       "\\begin{tabular}{r|llll}\n",
       "  &  &  &  & \\\\\n",
       "  & <dbl> & <dbl> & <dbl> & <dbl>\\\\\n",
       "\\hline\n",
       "\tp1 & 0.3923892 & 0.1106274 & 0.1590636 & 0.3379198\\\\\n",
       "\tp2 & 0.0000000 & 0.3624192 & 0.3549557 & 0.2826250\\\\\n",
       "\tp3 & 0.0000000 & 0.0000000 & 0.8876956 & 0.1123044\\\\\n",
       "\tp4 & 0.0000000 & 0.0000000 & 0.0000000 & 1.0000000\\\\\n",
       "\\end{tabular}\n"
      ],
      "text/markdown": [
       "\n",
       "A data.frame: 4 × 4\n",
       "\n",
       "| <!--/--> | <!----> &lt;dbl&gt; | <!----> &lt;dbl&gt; | <!----> &lt;dbl&gt; | <!----> &lt;dbl&gt; |\n",
       "|---|---|---|---|---|\n",
       "| p1 | 0.3923892 | 0.1106274 | 0.1590636 | 0.3379198 |\n",
       "| p2 | 0.0000000 | 0.3624192 | 0.3549557 | 0.2826250 |\n",
       "| p3 | 0.0000000 | 0.0000000 | 0.8876956 | 0.1123044 |\n",
       "| p4 | 0.0000000 | 0.0000000 | 0.0000000 | 1.0000000 |\n",
       "\n"
      ],
      "text/plain": [
       "                                          \n",
       "p1 0.3923892 0.1106274 0.1590636 0.3379198\n",
       "p2 0.0000000 0.3624192 0.3549557 0.2826250\n",
       "p3 0.0000000 0.0000000 0.8876956 0.1123044\n",
       "p4 0.0000000 0.0000000 0.0000000 1.0000000"
      ]
     },
     "metadata": {},
     "output_type": "display_data"
    },
    {
     "name": "stdout",
     "output_type": "stream",
     "text": [
      "[1] \"k= 8\"\n"
     ]
    }
   ],
   "source": [
    "Variant<-6\n",
    "set.seed(Variant) \n",
    "k<-sample(c(4:9),1)\n",
    "pp1<-runif(4)\n",
    "pp2<-runif(3)\n",
    "pp3<-runif(2)\n",
    "p1<-pp1/sum(pp1)\n",
    "p2<-c(c(0),pp2/sum(pp2))\n",
    "p3<-c(c(0,0),pp3/sum(pp3))\n",
    "p4<-c(0,0,0,1)\n",
    "P<-data.frame()\n",
    "P<-rbind(P,p1)\n",
    "P<-rbind(P,p2)\n",
    "P<-rbind(P,p3)\n",
    "P<-rbind(P,p4)\n",
    "rownames(P)<-c(\"p1\",\"p2\",\"p3\",\"p4\")\n",
    "colnames(P)<-c(\"\",\"\",\"\",\"\")\n",
    "View(P)\n",
    "print(paste(\"k=\",as.character(k)))"
   ]
  },
  {
   "attachments": {},
   "cell_type": "markdown",
   "metadata": {},
   "source": [
    "### Граф состояний\n",
    "\n",
    "![Граф состояний](./assets/state-graph.png)"
   ]
  },
  {
   "attachments": {},
   "cell_type": "markdown",
   "metadata": {},
   "source": [
    "### Теоретическое решение\n",
    "\n",
    "начальное состояние - S1 => начальный вектор p0 = (1, 0, 0, 0)"
   ]
  },
  {
   "cell_type": "code",
   "execution_count": 3,
   "metadata": {
    "vscode": {
     "languageId": "r"
    }
   },
   "outputs": [
    {
     "data": {
      "text/html": [
       "<table class=\"dataframe\">\n",
       "<caption>A matrix: 4 × 4 of type dbl</caption>\n",
       "<thead>\n",
       "\t<tr><th></th><th scope=col></th><th scope=col></th><th scope=col></th><th scope=col></th></tr>\n",
       "</thead>\n",
       "<tbody>\n",
       "\t<tr><th scope=row>p1</th><td>0.3923892</td><td>0.1106274</td><td>0.1590636</td><td>0.3379198</td></tr>\n",
       "\t<tr><th scope=row>p2</th><td>0.0000000</td><td>0.3624192</td><td>0.3549557</td><td>0.2826250</td></tr>\n",
       "\t<tr><th scope=row>p3</th><td>0.0000000</td><td>0.0000000</td><td>0.8876956</td><td>0.1123044</td></tr>\n",
       "\t<tr><th scope=row>p4</th><td>0.0000000</td><td>0.0000000</td><td>0.0000000</td><td>1.0000000</td></tr>\n",
       "</tbody>\n",
       "</table>\n"
      ],
      "text/latex": [
       "A matrix: 4 × 4 of type dbl\n",
       "\\begin{tabular}{r|llll}\n",
       "  &  &  &  & \\\\\n",
       "\\hline\n",
       "\tp1 & 0.3923892 & 0.1106274 & 0.1590636 & 0.3379198\\\\\n",
       "\tp2 & 0.0000000 & 0.3624192 & 0.3549557 & 0.2826250\\\\\n",
       "\tp3 & 0.0000000 & 0.0000000 & 0.8876956 & 0.1123044\\\\\n",
       "\tp4 & 0.0000000 & 0.0000000 & 0.0000000 & 1.0000000\\\\\n",
       "\\end{tabular}\n"
      ],
      "text/markdown": [
       "\n",
       "A matrix: 4 × 4 of type dbl\n",
       "\n",
       "| <!--/--> | <!----> | <!----> | <!----> | <!----> |\n",
       "|---|---|---|---|---|\n",
       "| p1 | 0.3923892 | 0.1106274 | 0.1590636 | 0.3379198 |\n",
       "| p2 | 0.0000000 | 0.3624192 | 0.3549557 | 0.2826250 |\n",
       "| p3 | 0.0000000 | 0.0000000 | 0.8876956 | 0.1123044 |\n",
       "| p4 | 0.0000000 | 0.0000000 | 0.0000000 | 1.0000000 |\n",
       "\n"
      ],
      "text/plain": [
       "                                          \n",
       "p1 0.3923892 0.1106274 0.1590636 0.3379198\n",
       "p2 0.0000000 0.3624192 0.3549557 0.2826250\n",
       "p3 0.0000000 0.0000000 0.8876956 0.1123044\n",
       "p4 0.0000000 0.0000000 0.0000000 1.0000000"
      ]
     },
     "metadata": {},
     "output_type": "display_data"
    },
    {
     "data": {
      "text/html": [
       "<table class=\"dataframe\">\n",
       "<caption>A matrix: 1 × 4 of type dbl</caption>\n",
       "<tbody>\n",
       "\t<tr><td>1</td><td>0</td><td>0</td><td>0</td></tr>\n",
       "</tbody>\n",
       "</table>\n"
      ],
      "text/latex": [
       "A matrix: 1 × 4 of type dbl\n",
       "\\begin{tabular}{llll}\n",
       "\t 1 & 0 & 0 & 0\\\\\n",
       "\\end{tabular}\n"
      ],
      "text/markdown": [
       "\n",
       "A matrix: 1 × 4 of type dbl\n",
       "\n",
       "| 1 | 0 | 0 | 0 |\n",
       "\n"
      ],
      "text/plain": [
       "     [,1] [,2] [,3] [,4]\n",
       "[1,] 1    0    0    0   "
      ]
     },
     "metadata": {},
     "output_type": "display_data"
    }
   ],
   "source": [
    "P_matrix<-data.matrix(P); P_matrix\n",
    "p0<-matrix(c(1, 0, 0, 0), ncol=4, nrow=1, byrow=TRUE); p0\n"
   ]
  },
  {
   "cell_type": "code",
   "execution_count": 4,
   "metadata": {
    "vscode": {
     "languageId": "r"
    }
   },
   "outputs": [
    {
     "name": "stdout",
     "output_type": "stream",
     "text": [
      "[1] \"k=6\"\n"
     ]
    },
    {
     "data": {
      "text/html": [
       "<table class=\"dataframe\">\n",
       "<caption>A matrix: 2 × 4 of type dbl</caption>\n",
       "<tbody>\n",
       "\t<tr><td>1.000000000</td><td>2.000000000</td><td>3.0000000</td><td>4.0000000</td></tr>\n",
       "\t<tr><td>0.003650079</td><td>0.005108872</td><td>0.2258142</td><td>0.7654269</td></tr>\n",
       "</tbody>\n",
       "</table>\n"
      ],
      "text/latex": [
       "A matrix: 2 × 4 of type dbl\n",
       "\\begin{tabular}{llll}\n",
       "\t 1.000000000 & 2.000000000 & 3.0000000 & 4.0000000\\\\\n",
       "\t 0.003650079 & 0.005108872 & 0.2258142 & 0.7654269\\\\\n",
       "\\end{tabular}\n"
      ],
      "text/markdown": [
       "\n",
       "A matrix: 2 × 4 of type dbl\n",
       "\n",
       "| 1.000000000 | 2.000000000 | 3.0000000 | 4.0000000 |\n",
       "| 0.003650079 | 0.005108872 | 0.2258142 | 0.7654269 |\n",
       "\n"
      ],
      "text/plain": [
       "     [,1]        [,2]        [,3]      [,4]     \n",
       "[1,] 1.000000000 2.000000000 3.0000000 4.0000000\n",
       "[2,] 0.003650079 0.005108872 0.2258142 0.7654269"
      ]
     },
     "metadata": {},
     "output_type": "display_data"
    },
    {
     "name": "stdout",
     "output_type": "stream",
     "text": [
      "[1] \"k=7\"\n"
     ]
    },
    {
     "data": {
      "text/html": [
       "<table class=\"dataframe\">\n",
       "<caption>A matrix: 2 × 4 of type dbl</caption>\n",
       "<tbody>\n",
       "\t<tr><td>1.000000000</td><td>2.000000000</td><td>3.0000000</td><td>4.0000000</td></tr>\n",
       "\t<tr><td>0.001432251</td><td>0.002255352</td><td>0.2028483</td><td>0.7934641</td></tr>\n",
       "</tbody>\n",
       "</table>\n"
      ],
      "text/latex": [
       "A matrix: 2 × 4 of type dbl\n",
       "\\begin{tabular}{llll}\n",
       "\t 1.000000000 & 2.000000000 & 3.0000000 & 4.0000000\\\\\n",
       "\t 0.001432251 & 0.002255352 & 0.2028483 & 0.7934641\\\\\n",
       "\\end{tabular}\n"
      ],
      "text/markdown": [
       "\n",
       "A matrix: 2 × 4 of type dbl\n",
       "\n",
       "| 1.000000000 | 2.000000000 | 3.0000000 | 4.0000000 |\n",
       "| 0.001432251 | 0.002255352 | 0.2028483 | 0.7934641 |\n",
       "\n"
      ],
      "text/plain": [
       "     [,1]        [,2]        [,3]      [,4]     \n",
       "[1,] 1.000000000 2.000000000 3.0000000 4.0000000\n",
       "[2,] 0.001432251 0.002255352 0.2028483 0.7934641"
      ]
     },
     "metadata": {},
     "output_type": "display_data"
    },
    {
     "name": "stdout",
     "output_type": "stream",
     "text": [
      "[1] \"k=8\"\n"
     ]
    },
    {
     "data": {
      "text/html": [
       "<table class=\"dataframe\">\n",
       "<caption>A matrix: 2 × 4 of type dbl</caption>\n",
       "<tbody>\n",
       "\t<tr><td>1.000000</td><td>2.0000000000</td><td>3.0000000</td><td>4.0000000</td></tr>\n",
       "\t<tr><td>0.000562</td><td>0.0009758292</td><td>0.1810959</td><td>0.8173663</td></tr>\n",
       "</tbody>\n",
       "</table>\n"
      ],
      "text/latex": [
       "A matrix: 2 × 4 of type dbl\n",
       "\\begin{tabular}{llll}\n",
       "\t 1.000000 & 2.0000000000 & 3.0000000 & 4.0000000\\\\\n",
       "\t 0.000562 & 0.0009758292 & 0.1810959 & 0.8173663\\\\\n",
       "\\end{tabular}\n"
      ],
      "text/markdown": [
       "\n",
       "A matrix: 2 × 4 of type dbl\n",
       "\n",
       "| 1.000000 | 2.0000000000 | 3.0000000 | 4.0000000 |\n",
       "| 0.000562 | 0.0009758292 | 0.1810959 | 0.8173663 |\n",
       "\n"
      ],
      "text/plain": [
       "     [,1]     [,2]         [,3]      [,4]     \n",
       "[1,] 1.000000 2.0000000000 3.0000000 4.0000000\n",
       "[2,] 0.000562 0.0009758292 0.1810959 0.8173663"
      ]
     },
     "metadata": {},
     "output_type": "display_data"
    }
   ],
   "source": [
    "library(matrixcalc)\n",
    "\n",
    "# подсчет гистаграммы состояний для N эксперементов по k проверок\n",
    "print(paste0('k=', k-2))\n",
    "matrix(c(1:4, p0 %*% matrix.power(P_matrix,k-2)), ncol=4, byrow=T)\n",
    "\n",
    "print(paste0('k=', k-1))\n",
    "matrix(c(1:4, p0 %*% matrix.power(P_matrix,k-1)), ncol=4, byrow=T)\n",
    "\n",
    "print(paste0('k=', k))\n",
    "matrix(c(1:4, p0 %*% matrix.power(P_matrix,k)), ncol=4, byrow=T)"
   ]
  },
  {
   "attachments": {},
   "cell_type": "markdown",
   "metadata": {},
   "source": [
    "### Статистический эксперимент"
   ]
  },
  {
   "cell_type": "code",
   "execution_count": 5,
   "metadata": {
    "vscode": {
     "languageId": "r"
    }
   },
   "outputs": [],
   "source": [
    "# i - индекс текущего состояния\n",
    "Dice<-function(i) {\n",
    "  intervals <- P[paste0('p',as.character(i)),]\n",
    "  # или так\n",
    "  # intervals <- P[i,]\n",
    "  # print(intervals)\n",
    "  r <- runif(1)\n",
    "  dice <- 0\n",
    "  # индекс следующего состония\n",
    "  j <- i - 1\n",
    "  while ((j < length(intervals)) & (dice < r)) {\n",
    "    j <- j + 1\n",
    "    dice <- dice + intervals[j]\n",
    "  }\n",
    "  return(j)\n",
    "}"
   ]
  },
  {
   "cell_type": "code",
   "execution_count": 6,
   "metadata": {
    "vscode": {
     "languageId": "r"
    }
   },
   "outputs": [
    {
     "name": "stdout",
     "output_type": "stream",
     "text": [
      "[1] \"проверка 1 | состояние S1\"\n",
      "[1] \"проверка 2 | состояние S3\"\n",
      "[1] \"проверка 3 | состояние S4\"\n",
      "[1] \"проверка 4 | состояние S4\"\n",
      "[1] \"проверка 5 | состояние S4\"\n",
      "[1] \"проверка 6 | состояние S4\"\n",
      "[1] \"проверка 7 | состояние S4\"\n",
      "[1] \"проверка 8 | состояние S4\"\n"
     ]
    }
   ],
   "source": [
    "state_idx <- 1\n",
    "for (i in 1:k) {\n",
    "  print(paste('проверка', i, '| состояние', paste0('S', state_idx)))\n",
    "  state_idx <- Dice(state_idx)\n",
    "} \n"
   ]
  },
  {
   "cell_type": "code",
   "execution_count": 7,
   "metadata": {
    "vscode": {
     "languageId": "r"
    }
   },
   "outputs": [],
   "source": [
    "N = 1000\n",
    "\n",
    "exp1 <- function(k) {\n",
    "  dices <- vector(mode='integer', length=N)\n",
    "  for (i in 1:N) {\n",
    "    state_idx <- 1\n",
    "    for (j in 1:k) {\n",
    "      state_idx <- Dice(state_idx)\n",
    "    }\n",
    "    # сохраняю конечное состояние\n",
    "    dices[i] <- state_idx\n",
    "  }\n",
    "  return(dices)\n",
    "}"
   ]
  },
  {
   "cell_type": "code",
   "execution_count": 8,
   "metadata": {
    "vscode": {
     "languageId": "r"
    }
   },
   "outputs": [
    {
     "name": "stdout",
     "output_type": "stream",
     "text": [
      "[1] \"k=6\"\n"
     ]
    },
    {
     "data": {
      "text/plain": [
       "dices\n",
       "    1     2     3     4 \n",
       "0.003 0.006 0.222 0.769 "
      ]
     },
     "metadata": {},
     "output_type": "display_data"
    },
    {
     "name": "stdout",
     "output_type": "stream",
     "text": [
      "[1] \"k=7\"\n"
     ]
    },
    {
     "data": {
      "text/plain": [
       "dices\n",
       "    1     2     3     4 \n",
       "0.003 0.003 0.225 0.769 "
      ]
     },
     "metadata": {},
     "output_type": "display_data"
    },
    {
     "name": "stdout",
     "output_type": "stream",
     "text": [
      "[1] \"k=8\"\n"
     ]
    },
    {
     "data": {
      "text/plain": [
       "dices\n",
       "    2     3     4 \n",
       "0.002 0.173 0.825 "
      ]
     },
     "metadata": {},
     "output_type": "display_data"
    }
   ],
   "source": [
    "# подсчет гистаграммы состояний для N эксперементов по k проверок\n",
    "print(paste0('k=', k-2))\n",
    "dices <- exp1(k-2);\n",
    "table(dices)/N\n",
    "\n",
    "print(paste0('k=', k-1))\n",
    "dices <- exp1(k-1);\n",
    "table(dices)/N\n",
    "\n",
    "print(paste0('k=', k))\n",
    "dices <- exp1(k);\n",
    "table(dices)/N"
   ]
  },
  {
   "attachments": {},
   "cell_type": "markdown",
   "metadata": {},
   "source": [
    "Полученные значения близки к теоретическим, полученным **выше**"
   ]
  },
  {
   "attachments": {},
   "cell_type": "markdown",
   "metadata": {},
   "source": [
    "## Задача 2\n",
    "Цепь Маркова с непрерывным временем.\n",
    "\n",
    "Считаю, что отказов в обслуживании нет.\n"
   ]
  },
  {
   "cell_type": "code",
   "execution_count": 9,
   "metadata": {
    "vscode": {
     "languageId": "r"
    }
   },
   "outputs": [
    {
     "data": {
      "text/html": [
       "<table class=\"dataframe\">\n",
       "<caption>A data.frame: 1 × 3</caption>\n",
       "<thead>\n",
       "\t<tr><th scope=col>k</th><th scope=col>t1</th><th scope=col>t2</th></tr>\n",
       "\t<tr><th scope=col>&lt;int&gt;</th><th scope=col>&lt;int&gt;</th><th scope=col>&lt;int&gt;</th></tr>\n",
       "</thead>\n",
       "<tbody>\n",
       "\t<tr><td>14</td><td>15</td><td>2</td></tr>\n",
       "</tbody>\n",
       "</table>\n"
      ],
      "text/latex": [
       "A data.frame: 1 × 3\n",
       "\\begin{tabular}{lll}\n",
       " k & t1 & t2\\\\\n",
       " <int> & <int> & <int>\\\\\n",
       "\\hline\n",
       "\t 14 & 15 & 2\\\\\n",
       "\\end{tabular}\n"
      ],
      "text/markdown": [
       "\n",
       "A data.frame: 1 × 3\n",
       "\n",
       "| k &lt;int&gt; | t1 &lt;int&gt; | t2 &lt;int&gt; |\n",
       "|---|---|---|\n",
       "| 14 | 15 | 2 |\n",
       "\n"
      ],
      "text/plain": [
       "  k  t1 t2\n",
       "1 14 15 2 "
      ]
     },
     "metadata": {},
     "output_type": "display_data"
    }
   ],
   "source": [
    "Variant<-6\n",
    "set.seed(Variant) \n",
    "k<-sample(c(10:25),1)\n",
    "t1<-sample(c(14:20),1)\n",
    "t2<-sample(c(2:5),1)\n",
    "View(data.frame(k,t1,t2))"
   ]
  },
  {
   "attachments": {},
   "cell_type": "markdown",
   "metadata": {},
   "source": [
    "### Статистический эксперимент"
   ]
  },
  {
   "cell_type": "code",
   "execution_count": 10,
   "metadata": {
    "vscode": {
     "languageId": "r"
    }
   },
   "outputs": [],
   "source": [
    "exp2 <- function(k_local, t1_local, t2_local, N) {\n",
    "  lambda1 = 1/t1_local\n",
    "  lambda2 = 1/t2_local\n",
    "\n",
    "  set.seed(Variant)\n",
    "\n",
    "  # вектор событий (времен с начала моделирования) загрузки программ на сервер\n",
    "  event_task_recieve <- vector(mode='double', length=N*k_local)\n",
    "  event_task_recieve[1:k_local] <- rexp(k_local, lambda1)\n",
    "  for (i in 1:(N-1)) {\n",
    "    event_task_recieve[(i*k_local+1):(i*k_local+k_local)] <- event_task_recieve[((i-1)*k_local+1):(i*k_local)] + rexp(k_local, lambda1)\n",
    "  }\n",
    "  # print(event_task_recieve) => sorted vector(mode='double', length=N*k)\n",
    "  # e.g. 0.5368717806413770.9901529230642491.240166490021951.605907236501722.915671849899143.08601920287698\n",
    "  event_task_recieve <- sort(event_task_recieve)\n",
    "\n",
    "  # event_server_free\n",
    "  # вектор событий (времен с начала моделирования),\n",
    "  # когда сервер заканчивает обработку i-й присланной программы\n",
    "\n",
    "  # event_queue_size\n",
    "  # вектор размеров очереди, когда приходит i-ая присланная программа. Первый всегда 0\n",
    "\n",
    "  # event_wait_time\n",
    "  # вектор времен ожидания завершения i-й присланной программы с учетом\n",
    "  # ожидания в очереди\n",
    "\n",
    "  event_server_free <- vector(mode='double', length=length(event_task_recieve))\n",
    "  event_queue_size <- vector(mode='integer', length=length(event_task_recieve))\n",
    "  event_wait_time <- vector(mode='double', length=length(event_task_recieve))\n",
    "  event_queue_decrease_times <- vector(mode='double', length=length(event_task_recieve))\n",
    "\n",
    "  # время от начала моделирования, когда сервер освободится,\n",
    "  # и будет готов обработать программу \n",
    "  time_free <- 0 \n",
    "\n",
    "  for (i in 1:length(event_task_recieve)) {\n",
    "    # время получения задачи\n",
    "    time_recieved <- event_task_recieve[i]\n",
    "    # необходимое время для прогона программы\n",
    "    time_required <- rexp(1, lambda2)\n",
    "\n",
    "    if (time_free < time_recieved) {\n",
    "      # будет выполняться сейчас\n",
    "      time_free <- time_recieved + time_required\n",
    "      event_wait_time[i] <- time_required # время выполнения\n",
    "    } else {\n",
    "      # будет выполняться после завершения предыдущей\n",
    "      time_free <- time_free + time_required\n",
    "      event_wait_time[i] <- time_free - time_recieved # время ожидания в очереди + время выполнения\n",
    "      event_queue_decrease_times <- append(event_queue_decrease_times, time_free)\n",
    "    }\n",
    "    event_queue_decrease_times <- event_queue_decrease_times[event_queue_decrease_times > time_recieved]\n",
    "    event_queue_size[i] <- length(event_queue_decrease_times)\n",
    "    event_server_free[i] <- time_free\n",
    "  }\n",
    "\n",
    "  return(list(\n",
    "    event_task_recieve = event_task_recieve,\n",
    "    event_server_free = event_server_free,\n",
    "    event_queue_size = event_queue_size,\n",
    "    event_wait_time = event_wait_time\n",
    "  ))\n",
    "}"
   ]
  },
  {
   "cell_type": "code",
   "execution_count": 11,
   "metadata": {
    "vscode": {
     "languageId": "r"
    }
   },
   "outputs": [
    {
     "name": "stdout",
     "output_type": "stream",
     "text": [
      "[1] \"1) вектор времен поступления программ на сервер\"\n",
      "[1] \"2) вектор размеров очереди, когда приходит i-ая присланная программа. Первый всегда 0\"\n",
      "[1] \"3) вектор времен ожидания завершения i-й присланной программы с учетом ожидания в очереди\"\n",
      "[1] \"4) вектор времен, когда сервер заканчивает обработку i-й присланной программы\"\n",
      "[1] \"[1:28] ===============================================================================\"\n"
     ]
    },
    {
     "data": {
      "text/html": [
       "<style>\n",
       ".list-inline {list-style: none; margin:0; padding: 0}\n",
       ".list-inline>li {display: inline-block}\n",
       ".list-inline>li:not(:last-child)::after {content: \"\\00b7\"; padding: 0 .5ex}\n",
       "</style>\n",
       "<ol class=list-inline><li>0.536871780641377</li><li>0.990152923064249</li><li>1.24016649002195</li><li>1.60590723650172</li><li>2.74852335504981</li><li>2.91567184989914</li><li>3.08601920287698</li><li>3.18804892944172</li><li>4.30718295508996</li><li>4.41426207804695</li><li>5.2989216760002</li><li>5.3354979143478</li><li>5.73051607324573</li><li>5.84700380379269</li><li>5.95212647050767</li><li>6.01578134810552</li><li>6.58829777217174</li><li>8.0979509674944</li><li>9.13229371022583</li><li>9.22450167126954</li><li>9.48598445683865</li><li>9.93439338199677</li><li>10.7508192624183</li><li>12.0775114895995</li><li>15.3555357780696</li><li>15.7271948852576</li><li>16.658019396124</li><li>17.7413711102899</li></ol>\n"
      ],
      "text/latex": [
       "\\begin{enumerate*}\n",
       "\\item 0.536871780641377\n",
       "\\item 0.990152923064249\n",
       "\\item 1.24016649002195\n",
       "\\item 1.60590723650172\n",
       "\\item 2.74852335504981\n",
       "\\item 2.91567184989914\n",
       "\\item 3.08601920287698\n",
       "\\item 3.18804892944172\n",
       "\\item 4.30718295508996\n",
       "\\item 4.41426207804695\n",
       "\\item 5.2989216760002\n",
       "\\item 5.3354979143478\n",
       "\\item 5.73051607324573\n",
       "\\item 5.84700380379269\n",
       "\\item 5.95212647050767\n",
       "\\item 6.01578134810552\n",
       "\\item 6.58829777217174\n",
       "\\item 8.0979509674944\n",
       "\\item 9.13229371022583\n",
       "\\item 9.22450167126954\n",
       "\\item 9.48598445683865\n",
       "\\item 9.93439338199677\n",
       "\\item 10.7508192624183\n",
       "\\item 12.0775114895995\n",
       "\\item 15.3555357780696\n",
       "\\item 15.7271948852576\n",
       "\\item 16.658019396124\n",
       "\\item 17.7413711102899\n",
       "\\end{enumerate*}\n"
      ],
      "text/markdown": [
       "1. 0.536871780641377\n",
       "2. 0.990152923064249\n",
       "3. 1.24016649002195\n",
       "4. 1.60590723650172\n",
       "5. 2.74852335504981\n",
       "6. 2.91567184989914\n",
       "7. 3.08601920287698\n",
       "8. 3.18804892944172\n",
       "9. 4.30718295508996\n",
       "10. 4.41426207804695\n",
       "11. 5.2989216760002\n",
       "12. 5.3354979143478\n",
       "13. 5.73051607324573\n",
       "14. 5.84700380379269\n",
       "15. 5.95212647050767\n",
       "16. 6.01578134810552\n",
       "17. 6.58829777217174\n",
       "18. 8.0979509674944\n",
       "19. 9.13229371022583\n",
       "20. 9.22450167126954\n",
       "21. 9.48598445683865\n",
       "22. 9.93439338199677\n",
       "23. 10.7508192624183\n",
       "24. 12.0775114895995\n",
       "25. 15.3555357780696\n",
       "26. 15.7271948852576\n",
       "27. 16.658019396124\n",
       "28. 17.7413711102899\n",
       "\n",
       "\n"
      ],
      "text/plain": [
       " [1]  0.5368718  0.9901529  1.2401665  1.6059072  2.7485234  2.9156718\n",
       " [7]  3.0860192  3.1880489  4.3071830  4.4142621  5.2989217  5.3354979\n",
       "[13]  5.7305161  5.8470038  5.9521265  6.0157813  6.5882978  8.0979510\n",
       "[19]  9.1322937  9.2245017  9.4859845  9.9343934 10.7508193 12.0775115\n",
       "[25] 15.3555358 15.7271949 16.6580194 17.7413711"
      ]
     },
     "metadata": {},
     "output_type": "display_data"
    },
    {
     "data": {
      "text/html": [
       "<style>\n",
       ".list-inline {list-style: none; margin:0; padding: 0}\n",
       ".list-inline>li {display: inline-block}\n",
       ".list-inline>li:not(:last-child)::after {content: \"\\00b7\"; padding: 0 .5ex}\n",
       "</style>\n",
       "<ol class=list-inline><li>0</li><li>0</li><li>1</li><li>2</li><li>3</li><li>4</li><li>5</li><li>6</li><li>7</li><li>8</li><li>8</li><li>9</li><li>10</li><li>11</li><li>12</li><li>13</li><li>14</li><li>15</li><li>16</li><li>17</li><li>17</li><li>17</li><li>16</li><li>16</li><li>15</li><li>16</li><li>17</li><li>18</li></ol>\n"
      ],
      "text/latex": [
       "\\begin{enumerate*}\n",
       "\\item 0\n",
       "\\item 0\n",
       "\\item 1\n",
       "\\item 2\n",
       "\\item 3\n",
       "\\item 4\n",
       "\\item 5\n",
       "\\item 6\n",
       "\\item 7\n",
       "\\item 8\n",
       "\\item 8\n",
       "\\item 9\n",
       "\\item 10\n",
       "\\item 11\n",
       "\\item 12\n",
       "\\item 13\n",
       "\\item 14\n",
       "\\item 15\n",
       "\\item 16\n",
       "\\item 17\n",
       "\\item 17\n",
       "\\item 17\n",
       "\\item 16\n",
       "\\item 16\n",
       "\\item 15\n",
       "\\item 16\n",
       "\\item 17\n",
       "\\item 18\n",
       "\\end{enumerate*}\n"
      ],
      "text/markdown": [
       "1. 0\n",
       "2. 0\n",
       "3. 1\n",
       "4. 2\n",
       "5. 3\n",
       "6. 4\n",
       "7. 5\n",
       "8. 6\n",
       "9. 7\n",
       "10. 8\n",
       "11. 8\n",
       "12. 9\n",
       "13. 10\n",
       "14. 11\n",
       "15. 12\n",
       "16. 13\n",
       "17. 14\n",
       "18. 15\n",
       "19. 16\n",
       "20. 17\n",
       "21. 17\n",
       "22. 17\n",
       "23. 16\n",
       "24. 16\n",
       "25. 15\n",
       "26. 16\n",
       "27. 17\n",
       "28. 18\n",
       "\n",
       "\n"
      ],
      "text/plain": [
       " [1]  0  0  1  2  3  4  5  6  7  8  8  9 10 11 12 13 14 15 16 17 17 17 16 16 15\n",
       "[26] 16 17 18"
      ]
     },
     "metadata": {},
     "output_type": "display_data"
    },
    {
     "data": {
      "text/html": [
       "<style>\n",
       ".list-inline {list-style: none; margin:0; padding: 0}\n",
       ".list-inline>li {display: inline-block}\n",
       ".list-inline>li:not(:last-child)::after {content: \"\\00b7\"; padding: 0 .5ex}\n",
       "</style>\n",
       "<ol class=list-inline><li>0.21319380349283</li><li>1.92003548328267</li><li>3.84667685857465</li><li>7.6910689305119</li><li>6.78167882440235</li><li>7.19251524094267</li><li>7.31810826385168</li><li>8.54023371613932</li><li>8.66812612372799</li><li>9.31651155553532</li><li>12.5317890834545</li><li>12.7605427518238</li><li>14.743764658491</li><li>15.8156856752595</li><li>16.7220271144635</li><li>18.1236872676694</li><li>18.8322926116605</li><li>18.040915396653</li><li>17.5188149916104</li><li>17.4342338835186</li><li>18.0084282159901</li><li>19.3839016656605</li><li>20.2202926134952</li><li>23.4570247684207</li><li>22.8050431234286</li><li>24.1181203940538</li><li>25.2460953324578</li><li>28.8666307036666</li></ol>\n"
      ],
      "text/latex": [
       "\\begin{enumerate*}\n",
       "\\item 0.21319380349283\n",
       "\\item 1.92003548328267\n",
       "\\item 3.84667685857465\n",
       "\\item 7.6910689305119\n",
       "\\item 6.78167882440235\n",
       "\\item 7.19251524094267\n",
       "\\item 7.31810826385168\n",
       "\\item 8.54023371613932\n",
       "\\item 8.66812612372799\n",
       "\\item 9.31651155553532\n",
       "\\item 12.5317890834545\n",
       "\\item 12.7605427518238\n",
       "\\item 14.743764658491\n",
       "\\item 15.8156856752595\n",
       "\\item 16.7220271144635\n",
       "\\item 18.1236872676694\n",
       "\\item 18.8322926116605\n",
       "\\item 18.040915396653\n",
       "\\item 17.5188149916104\n",
       "\\item 17.4342338835186\n",
       "\\item 18.0084282159901\n",
       "\\item 19.3839016656605\n",
       "\\item 20.2202926134952\n",
       "\\item 23.4570247684207\n",
       "\\item 22.8050431234286\n",
       "\\item 24.1181203940538\n",
       "\\item 25.2460953324578\n",
       "\\item 28.8666307036666\n",
       "\\end{enumerate*}\n"
      ],
      "text/markdown": [
       "1. 0.21319380349283\n",
       "2. 1.92003548328267\n",
       "3. 3.84667685857465\n",
       "4. 7.6910689305119\n",
       "5. 6.78167882440235\n",
       "6. 7.19251524094267\n",
       "7. 7.31810826385168\n",
       "8. 8.54023371613932\n",
       "9. 8.66812612372799\n",
       "10. 9.31651155553532\n",
       "11. 12.5317890834545\n",
       "12. 12.7605427518238\n",
       "13. 14.743764658491\n",
       "14. 15.8156856752595\n",
       "15. 16.7220271144635\n",
       "16. 18.1236872676694\n",
       "17. 18.8322926116605\n",
       "18. 18.040915396653\n",
       "19. 17.5188149916104\n",
       "20. 17.4342338835186\n",
       "21. 18.0084282159901\n",
       "22. 19.3839016656605\n",
       "23. 20.2202926134952\n",
       "24. 23.4570247684207\n",
       "25. 22.8050431234286\n",
       "26. 24.1181203940538\n",
       "27. 25.2460953324578\n",
       "28. 28.8666307036666\n",
       "\n",
       "\n"
      ],
      "text/plain": [
       " [1]  0.2131938  1.9200355  3.8466769  7.6910689  6.7816788  7.1925152\n",
       " [7]  7.3181083  8.5402337  8.6681261  9.3165116 12.5317891 12.7605428\n",
       "[13] 14.7437647 15.8156857 16.7220271 18.1236873 18.8322926 18.0409154\n",
       "[19] 17.5188150 17.4342339 18.0084282 19.3839017 20.2202926 23.4570248\n",
       "[25] 22.8050431 24.1181204 25.2460953 28.8666307"
      ]
     },
     "metadata": {},
     "output_type": "display_data"
    },
    {
     "data": {
      "text/html": [
       "<style>\n",
       ".list-inline {list-style: none; margin:0; padding: 0}\n",
       ".list-inline>li {display: inline-block}\n",
       ".list-inline>li:not(:last-child)::after {content: \"\\00b7\"; padding: 0 .5ex}\n",
       "</style>\n",
       "<ol class=list-inline><li>0.750065584134207</li><li>2.91018840634692</li><li>5.0868433485966</li><li>9.29697616701362</li><li>9.53020217945216</li><li>10.1081870908418</li><li>10.4041274667287</li><li>11.728282645581</li><li>12.9753090788179</li><li>13.7307736335823</li><li>17.8307107594547</li><li>18.0960406661716</li><li>20.4742807317368</li><li>21.6626894790522</li><li>22.6741535849712</li><li>24.1394686157749</li><li>25.4205903838322</li><li>26.1388663641474</li><li>26.6511087018362</li><li>26.6587355547881</li><li>27.4944126728288</li><li>29.3182950476572</li><li>30.9711118759135</li><li>35.5345362580202</li><li>38.1605789014982</li><li>39.8453152793114</li><li>41.9041147285818</li><li>46.6080018139565</li></ol>\n"
      ],
      "text/latex": [
       "\\begin{enumerate*}\n",
       "\\item 0.750065584134207\n",
       "\\item 2.91018840634692\n",
       "\\item 5.0868433485966\n",
       "\\item 9.29697616701362\n",
       "\\item 9.53020217945216\n",
       "\\item 10.1081870908418\n",
       "\\item 10.4041274667287\n",
       "\\item 11.728282645581\n",
       "\\item 12.9753090788179\n",
       "\\item 13.7307736335823\n",
       "\\item 17.8307107594547\n",
       "\\item 18.0960406661716\n",
       "\\item 20.4742807317368\n",
       "\\item 21.6626894790522\n",
       "\\item 22.6741535849712\n",
       "\\item 24.1394686157749\n",
       "\\item 25.4205903838322\n",
       "\\item 26.1388663641474\n",
       "\\item 26.6511087018362\n",
       "\\item 26.6587355547881\n",
       "\\item 27.4944126728288\n",
       "\\item 29.3182950476572\n",
       "\\item 30.9711118759135\n",
       "\\item 35.5345362580202\n",
       "\\item 38.1605789014982\n",
       "\\item 39.8453152793114\n",
       "\\item 41.9041147285818\n",
       "\\item 46.6080018139565\n",
       "\\end{enumerate*}\n"
      ],
      "text/markdown": [
       "1. 0.750065584134207\n",
       "2. 2.91018840634692\n",
       "3. 5.0868433485966\n",
       "4. 9.29697616701362\n",
       "5. 9.53020217945216\n",
       "6. 10.1081870908418\n",
       "7. 10.4041274667287\n",
       "8. 11.728282645581\n",
       "9. 12.9753090788179\n",
       "10. 13.7307736335823\n",
       "11. 17.8307107594547\n",
       "12. 18.0960406661716\n",
       "13. 20.4742807317368\n",
       "14. 21.6626894790522\n",
       "15. 22.6741535849712\n",
       "16. 24.1394686157749\n",
       "17. 25.4205903838322\n",
       "18. 26.1388663641474\n",
       "19. 26.6511087018362\n",
       "20. 26.6587355547881\n",
       "21. 27.4944126728288\n",
       "22. 29.3182950476572\n",
       "23. 30.9711118759135\n",
       "24. 35.5345362580202\n",
       "25. 38.1605789014982\n",
       "26. 39.8453152793114\n",
       "27. 41.9041147285818\n",
       "28. 46.6080018139565\n",
       "\n",
       "\n"
      ],
      "text/plain": [
       " [1]  0.7500656  2.9101884  5.0868433  9.2969762  9.5302022 10.1081871\n",
       " [7] 10.4041275 11.7282826 12.9753091 13.7307736 17.8307108 18.0960407\n",
       "[13] 20.4742807 21.6626895 22.6741536 24.1394686 25.4205904 26.1388664\n",
       "[19] 26.6511087 26.6587356 27.4944127 29.3182950 30.9711119 35.5345363\n",
       "[25] 38.1605789 39.8453153 41.9041147 46.6080018"
      ]
     },
     "metadata": {},
     "output_type": "display_data"
    },
    {
     "name": "stdout",
     "output_type": "stream",
     "text": [
      "[1] \"[771:798] ===============================================================================\"\n"
     ]
    },
    {
     "data": {
      "text/html": [
       "<style>\n",
       ".list-inline {list-style: none; margin:0; padding: 0}\n",
       ".list-inline>li {display: inline-block}\n",
       ".list-inline>li:not(:last-child)::after {content: \"\\00b7\"; padding: 0 .5ex}\n",
       "</style>\n",
       "<ol class=list-inline><li>806.196781331265</li><li>807.331838115716</li><li>807.425288584706</li><li>807.469210040465</li><li>809.202040139649</li><li>810.614454282505</li><li>812.050436855347</li><li>812.580575224806</li><li>813.465301636314</li><li>813.882435650867</li><li>817.026901444552</li><li>819.184651040176</li><li>819.651530833819</li><li>819.990461580615</li><li>820.009901905269</li><li>821.525301851275</li><li>821.605876654751</li><li>821.970254059874</li><li>823.279013430307</li><li>824.295006413471</li><li>824.833985487896</li><li>828.928239148475</li><li>828.937763098008</li><li>830.957725720911</li><li>831.361468123171</li><li>832.502732588875</li><li>833.350097422271</li><li>837.010264667581</li></ol>\n"
      ],
      "text/latex": [
       "\\begin{enumerate*}\n",
       "\\item 806.196781331265\n",
       "\\item 807.331838115716\n",
       "\\item 807.425288584706\n",
       "\\item 807.469210040465\n",
       "\\item 809.202040139649\n",
       "\\item 810.614454282505\n",
       "\\item 812.050436855347\n",
       "\\item 812.580575224806\n",
       "\\item 813.465301636314\n",
       "\\item 813.882435650867\n",
       "\\item 817.026901444552\n",
       "\\item 819.184651040176\n",
       "\\item 819.651530833819\n",
       "\\item 819.990461580615\n",
       "\\item 820.009901905269\n",
       "\\item 821.525301851275\n",
       "\\item 821.605876654751\n",
       "\\item 821.970254059874\n",
       "\\item 823.279013430307\n",
       "\\item 824.295006413471\n",
       "\\item 824.833985487896\n",
       "\\item 828.928239148475\n",
       "\\item 828.937763098008\n",
       "\\item 830.957725720911\n",
       "\\item 831.361468123171\n",
       "\\item 832.502732588875\n",
       "\\item 833.350097422271\n",
       "\\item 837.010264667581\n",
       "\\end{enumerate*}\n"
      ],
      "text/markdown": [
       "1. 806.196781331265\n",
       "2. 807.331838115716\n",
       "3. 807.425288584706\n",
       "4. 807.469210040465\n",
       "5. 809.202040139649\n",
       "6. 810.614454282505\n",
       "7. 812.050436855347\n",
       "8. 812.580575224806\n",
       "9. 813.465301636314\n",
       "10. 813.882435650867\n",
       "11. 817.026901444552\n",
       "12. 819.184651040176\n",
       "13. 819.651530833819\n",
       "14. 819.990461580615\n",
       "15. 820.009901905269\n",
       "16. 821.525301851275\n",
       "17. 821.605876654751\n",
       "18. 821.970254059874\n",
       "19. 823.279013430307\n",
       "20. 824.295006413471\n",
       "21. 824.833985487896\n",
       "22. 828.928239148475\n",
       "23. 828.937763098008\n",
       "24. 830.957725720911\n",
       "25. 831.361468123171\n",
       "26. 832.502732588875\n",
       "27. 833.350097422271\n",
       "28. 837.010264667581\n",
       "\n",
       "\n"
      ],
      "text/plain": [
       " [1] 806.1968 807.3318 807.4253 807.4692 809.2020 810.6145 812.0504 812.5806\n",
       " [9] 813.4653 813.8824 817.0269 819.1847 819.6515 819.9905 820.0099 821.5253\n",
       "[17] 821.6059 821.9703 823.2790 824.2950 824.8340 828.9282 828.9378 830.9577\n",
       "[25] 831.3615 832.5027 833.3501 837.0103"
      ]
     },
     "metadata": {},
     "output_type": "display_data"
    },
    {
     "data": {
      "text/html": [
       "<style>\n",
       ".list-inline {list-style: none; margin:0; padding: 0}\n",
       ".list-inline>li {display: inline-block}\n",
       ".list-inline>li:not(:last-child)::after {content: \"\\00b7\"; padding: 0 .5ex}\n",
       "</style>\n",
       "<ol class=list-inline><li>360</li><li>361</li><li>362</li><li>362</li><li>363</li><li>364</li><li>365</li><li>366</li><li>365</li><li>366</li><li>365</li><li>364</li><li>365</li><li>366</li><li>367</li><li>368</li><li>369</li><li>369</li><li>369</li><li>370</li><li>371</li><li>372</li><li>373</li><li>374</li><li>375</li><li>376</li><li>377</li><li>378</li></ol>\n"
      ],
      "text/latex": [
       "\\begin{enumerate*}\n",
       "\\item 360\n",
       "\\item 361\n",
       "\\item 362\n",
       "\\item 362\n",
       "\\item 363\n",
       "\\item 364\n",
       "\\item 365\n",
       "\\item 366\n",
       "\\item 365\n",
       "\\item 366\n",
       "\\item 365\n",
       "\\item 364\n",
       "\\item 365\n",
       "\\item 366\n",
       "\\item 367\n",
       "\\item 368\n",
       "\\item 369\n",
       "\\item 369\n",
       "\\item 369\n",
       "\\item 370\n",
       "\\item 371\n",
       "\\item 372\n",
       "\\item 373\n",
       "\\item 374\n",
       "\\item 375\n",
       "\\item 376\n",
       "\\item 377\n",
       "\\item 378\n",
       "\\end{enumerate*}\n"
      ],
      "text/markdown": [
       "1. 360\n",
       "2. 361\n",
       "3. 362\n",
       "4. 362\n",
       "5. 363\n",
       "6. 364\n",
       "7. 365\n",
       "8. 366\n",
       "9. 365\n",
       "10. 366\n",
       "11. 365\n",
       "12. 364\n",
       "13. 365\n",
       "14. 366\n",
       "15. 367\n",
       "16. 368\n",
       "17. 369\n",
       "18. 369\n",
       "19. 369\n",
       "20. 370\n",
       "21. 371\n",
       "22. 372\n",
       "23. 373\n",
       "24. 374\n",
       "25. 375\n",
       "26. 376\n",
       "27. 377\n",
       "28. 378\n",
       "\n",
       "\n"
      ],
      "text/plain": [
       " [1] 360 361 362 362 363 364 365 366 365 366 365 364 365 366 367 368 369 369 369\n",
       "[20] 370 371 372 373 374 375 376 377 378"
      ]
     },
     "metadata": {},
     "output_type": "display_data"
    },
    {
     "data": {
      "text/html": [
       "<style>\n",
       ".list-inline {list-style: none; margin:0; padding: 0}\n",
       ".list-inline>li {display: inline-block}\n",
       ".list-inline>li:not(:last-child)::after {content: \"\\00b7\"; padding: 0 .5ex}\n",
       "</style>\n",
       "<ol class=list-inline><li>754.51161025407</li><li>754.489805123119</li><li>755.712654264899</li><li>757.766546858628</li><li>757.500955185568</li><li>763.024395952937</li><li>763.294144885539</li><li>763.711201036464</li><li>763.524704227495</li><li>763.664443683418</li><li>762.277173613824</li><li>760.748354714933</li><li>760.646120859679</li><li>761.497056100631</li><li>765.18968256776</li><li>765.838571574617</li><li>770.413719082298</li><li>773.163593014953</li><li>773.453602463559</li><li>773.114562024063</li><li>772.610479686439</li><li>771.446188084543</li><li>774.346098174257</li><li>774.084394501234</li><li>776.398113349613</li><li>776.444539782684</li><li>776.882122054041</li><li>776.623168238431</li></ol>\n"
      ],
      "text/latex": [
       "\\begin{enumerate*}\n",
       "\\item 754.51161025407\n",
       "\\item 754.489805123119\n",
       "\\item 755.712654264899\n",
       "\\item 757.766546858628\n",
       "\\item 757.500955185568\n",
       "\\item 763.024395952937\n",
       "\\item 763.294144885539\n",
       "\\item 763.711201036464\n",
       "\\item 763.524704227495\n",
       "\\item 763.664443683418\n",
       "\\item 762.277173613824\n",
       "\\item 760.748354714933\n",
       "\\item 760.646120859679\n",
       "\\item 761.497056100631\n",
       "\\item 765.18968256776\n",
       "\\item 765.838571574617\n",
       "\\item 770.413719082298\n",
       "\\item 773.163593014953\n",
       "\\item 773.453602463559\n",
       "\\item 773.114562024063\n",
       "\\item 772.610479686439\n",
       "\\item 771.446188084543\n",
       "\\item 774.346098174257\n",
       "\\item 774.084394501234\n",
       "\\item 776.398113349613\n",
       "\\item 776.444539782684\n",
       "\\item 776.882122054041\n",
       "\\item 776.623168238431\n",
       "\\end{enumerate*}\n"
      ],
      "text/markdown": [
       "1. 754.51161025407\n",
       "2. 754.489805123119\n",
       "3. 755.712654264899\n",
       "4. 757.766546858628\n",
       "5. 757.500955185568\n",
       "6. 763.024395952937\n",
       "7. 763.294144885539\n",
       "8. 763.711201036464\n",
       "9. 763.524704227495\n",
       "10. 763.664443683418\n",
       "11. 762.277173613824\n",
       "12. 760.748354714933\n",
       "13. 760.646120859679\n",
       "14. 761.497056100631\n",
       "15. 765.18968256776\n",
       "16. 765.838571574617\n",
       "17. 770.413719082298\n",
       "18. 773.163593014953\n",
       "19. 773.453602463559\n",
       "20. 773.114562024063\n",
       "21. 772.610479686439\n",
       "22. 771.446188084543\n",
       "23. 774.346098174257\n",
       "24. 774.084394501234\n",
       "25. 776.398113349613\n",
       "26. 776.444539782684\n",
       "27. 776.882122054041\n",
       "28. 776.623168238431\n",
       "\n",
       "\n"
      ],
      "text/plain": [
       " [1] 754.5116 754.4898 755.7127 757.7665 757.5010 763.0244 763.2941 763.7112\n",
       " [9] 763.5247 763.6644 762.2772 760.7484 760.6461 761.4971 765.1897 765.8386\n",
       "[17] 770.4137 773.1636 773.4536 773.1146 772.6105 771.4462 774.3461 774.0844\n",
       "[25] 776.3981 776.4445 776.8821 776.6232"
      ]
     },
     "metadata": {},
     "output_type": "display_data"
    },
    {
     "data": {
      "text/html": [
       "<style>\n",
       ".list-inline {list-style: none; margin:0; padding: 0}\n",
       ".list-inline>li {display: inline-block}\n",
       ".list-inline>li:not(:last-child)::after {content: \"\\00b7\"; padding: 0 .5ex}\n",
       "</style>\n",
       "<ol class=list-inline><li>1560.70839158533</li><li>1561.82164323883</li><li>1563.13794284961</li><li>1565.23575689909</li><li>1566.70299532522</li><li>1573.63885023544</li><li>1575.34458174089</li><li>1576.29177626127</li><li>1576.99000586381</li><li>1577.54687933429</li><li>1579.30407505838</li><li>1579.93300575511</li><li>1580.2976516935</li><li>1581.48751768125</li><li>1585.19958447303</li><li>1587.36387342589</li><li>1592.01959573705</li><li>1595.13384707483</li><li>1596.73261589387</li><li>1597.40956843753</li><li>1597.44446517433</li><li>1600.37442723302</li><li>1603.28386127226</li><li>1605.04212022215</li><li>1607.75958147278</li><li>1608.94727237156</li><li>1610.23221947631</li><li>1613.63343290601</li></ol>\n"
      ],
      "text/latex": [
       "\\begin{enumerate*}\n",
       "\\item 1560.70839158533\n",
       "\\item 1561.82164323883\n",
       "\\item 1563.13794284961\n",
       "\\item 1565.23575689909\n",
       "\\item 1566.70299532522\n",
       "\\item 1573.63885023544\n",
       "\\item 1575.34458174089\n",
       "\\item 1576.29177626127\n",
       "\\item 1576.99000586381\n",
       "\\item 1577.54687933429\n",
       "\\item 1579.30407505838\n",
       "\\item 1579.93300575511\n",
       "\\item 1580.2976516935\n",
       "\\item 1581.48751768125\n",
       "\\item 1585.19958447303\n",
       "\\item 1587.36387342589\n",
       "\\item 1592.01959573705\n",
       "\\item 1595.13384707483\n",
       "\\item 1596.73261589387\n",
       "\\item 1597.40956843753\n",
       "\\item 1597.44446517433\n",
       "\\item 1600.37442723302\n",
       "\\item 1603.28386127226\n",
       "\\item 1605.04212022215\n",
       "\\item 1607.75958147278\n",
       "\\item 1608.94727237156\n",
       "\\item 1610.23221947631\n",
       "\\item 1613.63343290601\n",
       "\\end{enumerate*}\n"
      ],
      "text/markdown": [
       "1. 1560.70839158533\n",
       "2. 1561.82164323883\n",
       "3. 1563.13794284961\n",
       "4. 1565.23575689909\n",
       "5. 1566.70299532522\n",
       "6. 1573.63885023544\n",
       "7. 1575.34458174089\n",
       "8. 1576.29177626127\n",
       "9. 1576.99000586381\n",
       "10. 1577.54687933429\n",
       "11. 1579.30407505838\n",
       "12. 1579.93300575511\n",
       "13. 1580.2976516935\n",
       "14. 1581.48751768125\n",
       "15. 1585.19958447303\n",
       "16. 1587.36387342589\n",
       "17. 1592.01959573705\n",
       "18. 1595.13384707483\n",
       "19. 1596.73261589387\n",
       "20. 1597.40956843753\n",
       "21. 1597.44446517433\n",
       "22. 1600.37442723302\n",
       "23. 1603.28386127226\n",
       "24. 1605.04212022215\n",
       "25. 1607.75958147278\n",
       "26. 1608.94727237156\n",
       "27. 1610.23221947631\n",
       "28. 1613.63343290601\n",
       "\n",
       "\n"
      ],
      "text/plain": [
       " [1] 1560.708 1561.822 1563.138 1565.236 1566.703 1573.639 1575.345 1576.292\n",
       " [9] 1576.990 1577.547 1579.304 1579.933 1580.298 1581.488 1585.200 1587.364\n",
       "[17] 1592.020 1595.134 1596.733 1597.410 1597.444 1600.374 1603.284 1605.042\n",
       "[25] 1607.760 1608.947 1610.232 1613.633"
      ]
     },
     "metadata": {},
     "output_type": "display_data"
    }
   ],
   "source": [
    "exp2_res_1 = exp2(k, t1, t2, 5000)\n",
    "\n",
    "print(\"1) вектор времен поступления программ на сервер\")\n",
    "print(\"2) вектор размеров очереди, когда приходит i-ая присланная программа. Первый всегда 0\")\n",
    "print(\"3) вектор времен ожидания завершения i-й присланной программы с учетом ожидания в очереди\")\n",
    "print(\"4) вектор времен, когда сервер заканчивает обработку i-й присланной программы\")\n",
    "print(paste0('[', as.character(1), ':', as.character(2*k), \"] ===============================================================================\"))\n",
    "exp2_res_1$event_task_recieve[1:(2*k)]\n",
    "exp2_res_1$event_queue_size[1:(2*k)]\n",
    "exp2_res_1$event_wait_time[1:(2*k)]\n",
    "exp2_res_1$event_server_free[1:(2*k)]\n",
    "\n",
    "print(paste0('[', as.character(55*k+1), ':', as.character(57*k), \"] ===============================================================================\"))\n",
    "\n",
    "exp2_res_1$event_task_recieve[(55*k+1):(57*k)]\n",
    "exp2_res_1$event_queue_size[(55*k+1):(57*k)]\n",
    "exp2_res_1$event_wait_time[(55*k+1):(57*k)]\n",
    "exp2_res_1$event_server_free[(55*k+1):(57*k)]"
   ]
  },
  {
   "attachments": {},
   "cell_type": "markdown",
   "metadata": {},
   "source": [
    "Если сравнить срезы $N={1;2}$ и $N={55;57}$, видно, что очередь не уменьшается, следовательно, при $N=\\infty$, ее размер $Q\\rightarrow\\infty$.\n",
    "\n",
    "Это происходит потому, что суммарная интенсивность потока заявок от программистов $\\lambda_\\Sigma = \\frac{k}{t_1} = \\frac{14}{15}$, в то время как интенсивность обслуживания $\\mu= \\frac{1}{t_2} = \\frac{1}{2}$, следовательно, интенсивность нагрузки $\\rho=\\frac{\\lambda_\\Sigma}{\\mu} = {\\frac{14}{15}}:{\\frac{1}{2}} = \\frac{28}{15} \\geq 1$.\n",
    "\n",
    "Если $\\lambda\\geq\\mu$, то канал с заявками не справляется, очередь растет до бесконечности, если $\\lambda<\\mu$, то задача разрешима.\n",
    "\n",
    "Но для расчета вероятностей и средних необходимо, чтобы $\\rho$ было $<1$. Для этого я вынужден понизить среднее время подготовки програм так, чтобы $\\frac{k}{t_1} = \\frac{14}{t_1} < \\mu = \\frac{1}{2} \\Rightarrow t_1 > \\frac{k}{\\mu} = k:\\frac{1}{2} = 28$ мин.\n",
    "\n",
    "Пусть $t_1 = 30$ мин."
   ]
  },
  {
   "cell_type": "code",
   "execution_count": 15,
   "metadata": {
    "vscode": {
     "languageId": "r"
    }
   },
   "outputs": [
    {
     "data": {
      "text/html": [
       "140000"
      ],
      "text/latex": [
       "140000"
      ],
      "text/markdown": [
       "140000"
      ],
      "text/plain": [
       "[1] 140000"
      ]
     },
     "metadata": {},
     "output_type": "display_data"
    },
    {
     "name": "stdout",
     "output_type": "stream",
     "text": [
      "[1] \"1) вектор времен поступления программ на сервер\"\n",
      "[1] \"2) вектор размеров очереди, когда приходит i-ая присланная программа. Первый всегда 0\"\n",
      "[1] \"3) вектор времен ожидания завершения i-й присланной программы с учетом ожидания в очереди\"\n",
      "[1] \"4) вектор времен, когда сервер заканчивает обработку i-й присланной программы\"\n",
      "[1] \"[1:28] ===============================================================================\"\n"
     ]
    },
    {
     "data": {
      "text/html": [
       "<style>\n",
       ".list-inline {list-style: none; margin:0; padding: 0}\n",
       ".list-inline>li {display: inline-block}\n",
       ".list-inline>li:not(:last-child)::after {content: \"\\00b7\"; padding: 0 .5ex}\n",
       "</style>\n",
       "<ol class=list-inline><li>1.07374356128275</li><li>1.9803058461285</li><li>2.4803329800439</li><li>3.21181447300345</li><li>5.49704671009962</li><li>5.83134369979829</li><li>6.17203840575397</li><li>6.37609785888344</li><li>8.61436591017991</li><li>8.82852415609389</li><li>10.5978433520004</li><li>10.6709958286956</li><li>11.4610321464915</li><li>11.6940076075854</li><li>11.9042529410153</li><li>12.031562696211</li><li>13.1765955443435</li><li>16.1959019349888</li><li>18.2645874204517</li><li>18.4490033425391</li><li>18.9719689136773</li><li>19.8687867639935</li><li>21.5016385248367</li><li>24.1550229791991</li><li>30.7110715561392</li><li>31.4543897705153</li><li>33.316038792248</li><li>35.4827422205798</li></ol>\n"
      ],
      "text/latex": [
       "\\begin{enumerate*}\n",
       "\\item 1.07374356128275\n",
       "\\item 1.9803058461285\n",
       "\\item 2.4803329800439\n",
       "\\item 3.21181447300345\n",
       "\\item 5.49704671009962\n",
       "\\item 5.83134369979829\n",
       "\\item 6.17203840575397\n",
       "\\item 6.37609785888344\n",
       "\\item 8.61436591017991\n",
       "\\item 8.82852415609389\n",
       "\\item 10.5978433520004\n",
       "\\item 10.6709958286956\n",
       "\\item 11.4610321464915\n",
       "\\item 11.6940076075854\n",
       "\\item 11.9042529410153\n",
       "\\item 12.031562696211\n",
       "\\item 13.1765955443435\n",
       "\\item 16.1959019349888\n",
       "\\item 18.2645874204517\n",
       "\\item 18.4490033425391\n",
       "\\item 18.9719689136773\n",
       "\\item 19.8687867639935\n",
       "\\item 21.5016385248367\n",
       "\\item 24.1550229791991\n",
       "\\item 30.7110715561392\n",
       "\\item 31.4543897705153\n",
       "\\item 33.316038792248\n",
       "\\item 35.4827422205798\n",
       "\\end{enumerate*}\n"
      ],
      "text/markdown": [
       "1. 1.07374356128275\n",
       "2. 1.9803058461285\n",
       "3. 2.4803329800439\n",
       "4. 3.21181447300345\n",
       "5. 5.49704671009962\n",
       "6. 5.83134369979829\n",
       "7. 6.17203840575397\n",
       "8. 6.37609785888344\n",
       "9. 8.61436591017991\n",
       "10. 8.82852415609389\n",
       "11. 10.5978433520004\n",
       "12. 10.6709958286956\n",
       "13. 11.4610321464915\n",
       "14. 11.6940076075854\n",
       "15. 11.9042529410153\n",
       "16. 12.031562696211\n",
       "17. 13.1765955443435\n",
       "18. 16.1959019349888\n",
       "19. 18.2645874204517\n",
       "20. 18.4490033425391\n",
       "21. 18.9719689136773\n",
       "22. 19.8687867639935\n",
       "23. 21.5016385248367\n",
       "24. 24.1550229791991\n",
       "25. 30.7110715561392\n",
       "26. 31.4543897705153\n",
       "27. 33.316038792248\n",
       "28. 35.4827422205798\n",
       "\n",
       "\n"
      ],
      "text/plain": [
       " [1]  1.073744  1.980306  2.480333  3.211814  5.497047  5.831344  6.172038\n",
       " [8]  6.376098  8.614366  8.828524 10.597843 10.670996 11.461032 11.694008\n",
       "[15] 11.904253 12.031563 13.176596 16.195902 18.264587 18.449003 18.971969\n",
       "[22] 19.868787 21.501639 24.155023 30.711072 31.454390 33.316039 35.482742"
      ]
     },
     "metadata": {},
     "output_type": "display_data"
    },
    {
     "data": {
      "text/html": [
       "<style>\n",
       ".list-inline {list-style: none; margin:0; padding: 0}\n",
       ".list-inline>li {display: inline-block}\n",
       ".list-inline>li:not(:last-child)::after {content: \"\\00b7\"; padding: 0 .5ex}\n",
       "</style>\n",
       "<ol class=list-inline><li>0</li><li>1</li><li>2</li><li>3</li><li>4</li><li>5</li><li>6</li><li>7</li><li>6</li><li>7</li><li>5</li><li>6</li><li>7</li><li>8</li><li>9</li><li>10</li><li>9</li><li>9</li><li>7</li><li>8</li><li>9</li><li>10</li><li>11</li><li>12</li><li>11</li><li>12</li><li>12</li><li>12</li></ol>\n"
      ],
      "text/latex": [
       "\\begin{enumerate*}\n",
       "\\item 0\n",
       "\\item 1\n",
       "\\item 2\n",
       "\\item 3\n",
       "\\item 4\n",
       "\\item 5\n",
       "\\item 6\n",
       "\\item 7\n",
       "\\item 6\n",
       "\\item 7\n",
       "\\item 5\n",
       "\\item 6\n",
       "\\item 7\n",
       "\\item 8\n",
       "\\item 9\n",
       "\\item 10\n",
       "\\item 9\n",
       "\\item 9\n",
       "\\item 7\n",
       "\\item 8\n",
       "\\item 9\n",
       "\\item 10\n",
       "\\item 11\n",
       "\\item 12\n",
       "\\item 11\n",
       "\\item 12\n",
       "\\item 12\n",
       "\\item 12\n",
       "\\end{enumerate*}\n"
      ],
      "text/markdown": [
       "1. 0\n",
       "2. 1\n",
       "3. 2\n",
       "4. 3\n",
       "5. 4\n",
       "6. 5\n",
       "7. 6\n",
       "8. 7\n",
       "9. 6\n",
       "10. 7\n",
       "11. 5\n",
       "12. 6\n",
       "13. 7\n",
       "14. 8\n",
       "15. 9\n",
       "16. 10\n",
       "17. 9\n",
       "18. 9\n",
       "19. 7\n",
       "20. 8\n",
       "21. 9\n",
       "22. 10\n",
       "23. 11\n",
       "24. 12\n",
       "25. 11\n",
       "26. 12\n",
       "27. 12\n",
       "28. 12\n",
       "\n",
       "\n"
      ],
      "text/plain": [
       " [1]  0  1  2  3  4  5  6  7  6  7  5  6  7  8  9 10  9  9  7  8  9 10 11 12 11\n",
       "[26] 12 12 12"
      ]
     },
     "metadata": {},
     "output_type": "display_data"
    },
    {
     "data": {
      "text/html": [
       "<style>\n",
       ".list-inline {list-style: none; margin:0; padding: 0}\n",
       ".list-inline>li {display: inline-block}\n",
       ".list-inline>li:not(:last-child)::after {content: \"\\00b7\"; padding: 0 .5ex}\n",
       "</style>\n",
       "<ol class=list-inline><li>4.52279303570218</li><li>5.3107210605771</li><li>5.01675854560094</li><li>5.63975514271158</li><li>4.40289163247242</li><li>4.21051376019466</li><li>5.8887025730296</li><li>6.12777854534855</li><li>6.04941211851352</li><li>7.82817821072216</li><li>6.71801145246277</li><li>6.90660798909463</li><li>16.9355510845051</li><li>18.036573492344</li><li>20.1601637177958</li><li>22.4317198019826</li><li>26.0092618767856</li><li>25.1117076531768</li><li>23.7853195479453</li><li>26.0352233137811</li><li>29.0337889741762</li><li>29.2884468598</li><li>29.5139506164848</li><li>29.972905387828</li><li>35.6744420675076</li><li>35.68279427237</li><li>37.4445959327462</li><li>37.2509537548532</li></ol>\n"
      ],
      "text/latex": [
       "\\begin{enumerate*}\n",
       "\\item 4.52279303570218\n",
       "\\item 5.3107210605771\n",
       "\\item 5.01675854560094\n",
       "\\item 5.63975514271158\n",
       "\\item 4.40289163247242\n",
       "\\item 4.21051376019466\n",
       "\\item 5.8887025730296\n",
       "\\item 6.12777854534855\n",
       "\\item 6.04941211851352\n",
       "\\item 7.82817821072216\n",
       "\\item 6.71801145246277\n",
       "\\item 6.90660798909463\n",
       "\\item 16.9355510845051\n",
       "\\item 18.036573492344\n",
       "\\item 20.1601637177958\n",
       "\\item 22.4317198019826\n",
       "\\item 26.0092618767856\n",
       "\\item 25.1117076531768\n",
       "\\item 23.7853195479453\n",
       "\\item 26.0352233137811\n",
       "\\item 29.0337889741762\n",
       "\\item 29.2884468598\n",
       "\\item 29.5139506164848\n",
       "\\item 29.972905387828\n",
       "\\item 35.6744420675076\n",
       "\\item 35.68279427237\n",
       "\\item 37.4445959327462\n",
       "\\item 37.2509537548532\n",
       "\\end{enumerate*}\n"
      ],
      "text/markdown": [
       "1. 4.52279303570218\n",
       "2. 5.3107210605771\n",
       "3. 5.01675854560094\n",
       "4. 5.63975514271158\n",
       "5. 4.40289163247242\n",
       "6. 4.21051376019466\n",
       "7. 5.8887025730296\n",
       "8. 6.12777854534855\n",
       "9. 6.04941211851352\n",
       "10. 7.82817821072216\n",
       "11. 6.71801145246277\n",
       "12. 6.90660798909463\n",
       "13. 16.9355510845051\n",
       "14. 18.036573492344\n",
       "15. 20.1601637177958\n",
       "16. 22.4317198019826\n",
       "17. 26.0092618767856\n",
       "18. 25.1117076531768\n",
       "19. 23.7853195479453\n",
       "20. 26.0352233137811\n",
       "21. 29.0337889741762\n",
       "22. 29.2884468598\n",
       "23. 29.5139506164848\n",
       "24. 29.972905387828\n",
       "25. 35.6744420675076\n",
       "26. 35.68279427237\n",
       "27. 37.4445959327462\n",
       "28. 37.2509537548532\n",
       "\n",
       "\n"
      ],
      "text/plain": [
       " [1]  4.522793  5.310721  5.016759  5.639755  4.402892  4.210514  5.888703\n",
       " [8]  6.127779  6.049412  7.828178  6.718011  6.906608 16.935551 18.036573\n",
       "[15] 20.160164 22.431720 26.009262 25.111708 23.785320 26.035223 29.033789\n",
       "[22] 29.288447 29.513951 29.972905 35.674442 35.682794 37.444596 37.250954"
      ]
     },
     "metadata": {},
     "output_type": "display_data"
    },
    {
     "data": {
      "text/html": [
       "<style>\n",
       ".list-inline {list-style: none; margin:0; padding: 0}\n",
       ".list-inline>li {display: inline-block}\n",
       ".list-inline>li:not(:last-child)::after {content: \"\\00b7\"; padding: 0 .5ex}\n",
       "</style>\n",
       "<ol class=list-inline><li>5.59653659698494</li><li>7.2910269067056</li><li>7.49709152564484</li><li>8.85156961571503</li><li>9.89993834257204</li><li>10.0418574599929</li><li>12.0607409787836</li><li>12.503876404232</li><li>14.6637780286934</li><li>16.6567023668161</li><li>17.3158548044632</li><li>17.5776038177902</li><li>28.3965832309966</li><li>29.7305810999294</li><li>32.0644166588112</li><li>34.4632824981936</li><li>39.1858574211291</li><li>41.3076095881656</li><li>42.0499069683969</li><li>44.4842266563202</li><li>48.0057578878535</li><li>49.1572336237935</li><li>51.0155891413214</li><li>54.1279283670271</li><li>66.3855136236468</li><li>67.1371840428853</li><li>70.7606347249943</li><li>72.733695975433</li></ol>\n"
      ],
      "text/latex": [
       "\\begin{enumerate*}\n",
       "\\item 5.59653659698494\n",
       "\\item 7.2910269067056\n",
       "\\item 7.49709152564484\n",
       "\\item 8.85156961571503\n",
       "\\item 9.89993834257204\n",
       "\\item 10.0418574599929\n",
       "\\item 12.0607409787836\n",
       "\\item 12.503876404232\n",
       "\\item 14.6637780286934\n",
       "\\item 16.6567023668161\n",
       "\\item 17.3158548044632\n",
       "\\item 17.5776038177902\n",
       "\\item 28.3965832309966\n",
       "\\item 29.7305810999294\n",
       "\\item 32.0644166588112\n",
       "\\item 34.4632824981936\n",
       "\\item 39.1858574211291\n",
       "\\item 41.3076095881656\n",
       "\\item 42.0499069683969\n",
       "\\item 44.4842266563202\n",
       "\\item 48.0057578878535\n",
       "\\item 49.1572336237935\n",
       "\\item 51.0155891413214\n",
       "\\item 54.1279283670271\n",
       "\\item 66.3855136236468\n",
       "\\item 67.1371840428853\n",
       "\\item 70.7606347249943\n",
       "\\item 72.733695975433\n",
       "\\end{enumerate*}\n"
      ],
      "text/markdown": [
       "1. 5.59653659698494\n",
       "2. 7.2910269067056\n",
       "3. 7.49709152564484\n",
       "4. 8.85156961571503\n",
       "5. 9.89993834257204\n",
       "6. 10.0418574599929\n",
       "7. 12.0607409787836\n",
       "8. 12.503876404232\n",
       "9. 14.6637780286934\n",
       "10. 16.6567023668161\n",
       "11. 17.3158548044632\n",
       "12. 17.5776038177902\n",
       "13. 28.3965832309966\n",
       "14. 29.7305810999294\n",
       "15. 32.0644166588112\n",
       "16. 34.4632824981936\n",
       "17. 39.1858574211291\n",
       "18. 41.3076095881656\n",
       "19. 42.0499069683969\n",
       "20. 44.4842266563202\n",
       "21. 48.0057578878535\n",
       "22. 49.1572336237935\n",
       "23. 51.0155891413214\n",
       "24. 54.1279283670271\n",
       "25. 66.3855136236468\n",
       "26. 67.1371840428853\n",
       "27. 70.7606347249943\n",
       "28. 72.733695975433\n",
       "\n",
       "\n"
      ],
      "text/plain": [
       " [1]  5.596537  7.291027  7.497092  8.851570  9.899938 10.041857 12.060741\n",
       " [8] 12.503876 14.663778 16.656702 17.315855 17.577604 28.396583 29.730581\n",
       "[15] 32.064417 34.463282 39.185857 41.307610 42.049907 44.484227 48.005758\n",
       "[22] 49.157234 51.015589 54.127928 66.385514 67.137184 70.760635 72.733696"
      ]
     },
     "metadata": {},
     "output_type": "display_data"
    },
    {
     "name": "stdout",
     "output_type": "stream",
     "text": [
      "[1] \"[771:798] ===============================================================================\"\n"
     ]
    },
    {
     "data": {
      "text/html": [
       "<style>\n",
       ".list-inline {list-style: none; margin:0; padding: 0}\n",
       ".list-inline>li {display: inline-block}\n",
       ".list-inline>li:not(:last-child)::after {content: \"\\00b7\"; padding: 0 .5ex}\n",
       "</style>\n",
       "<ol class=list-inline><li>1612.39356266253</li><li>1614.66367623143</li><li>1614.85057716941</li><li>1614.93842008093</li><li>1618.4040802793</li><li>1621.22890856501</li><li>1624.10087371069</li><li>1625.16115044961</li><li>1626.93060327263</li><li>1627.76487130173</li><li>1634.0538028891</li><li>1638.36930208035</li><li>1639.30306166764</li><li>1639.98092316123</li><li>1640.01980381054</li><li>1643.05060370255</li><li>1643.2117533095</li><li>1643.94050811975</li><li>1646.55802686061</li><li>1648.59001282694</li><li>1649.66797097579</li><li>1657.85647829695</li><li>1657.87552619602</li><li>1661.91545144182</li><li>1662.72293624634</li><li>1665.00546517775</li><li>1666.70019484454</li><li>1674.02052933516</li></ol>\n"
      ],
      "text/latex": [
       "\\begin{enumerate*}\n",
       "\\item 1612.39356266253\n",
       "\\item 1614.66367623143\n",
       "\\item 1614.85057716941\n",
       "\\item 1614.93842008093\n",
       "\\item 1618.4040802793\n",
       "\\item 1621.22890856501\n",
       "\\item 1624.10087371069\n",
       "\\item 1625.16115044961\n",
       "\\item 1626.93060327263\n",
       "\\item 1627.76487130173\n",
       "\\item 1634.0538028891\n",
       "\\item 1638.36930208035\n",
       "\\item 1639.30306166764\n",
       "\\item 1639.98092316123\n",
       "\\item 1640.01980381054\n",
       "\\item 1643.05060370255\n",
       "\\item 1643.2117533095\n",
       "\\item 1643.94050811975\n",
       "\\item 1646.55802686061\n",
       "\\item 1648.59001282694\n",
       "\\item 1649.66797097579\n",
       "\\item 1657.85647829695\n",
       "\\item 1657.87552619602\n",
       "\\item 1661.91545144182\n",
       "\\item 1662.72293624634\n",
       "\\item 1665.00546517775\n",
       "\\item 1666.70019484454\n",
       "\\item 1674.02052933516\n",
       "\\end{enumerate*}\n"
      ],
      "text/markdown": [
       "1. 1612.39356266253\n",
       "2. 1614.66367623143\n",
       "3. 1614.85057716941\n",
       "4. 1614.93842008093\n",
       "5. 1618.4040802793\n",
       "6. 1621.22890856501\n",
       "7. 1624.10087371069\n",
       "8. 1625.16115044961\n",
       "9. 1626.93060327263\n",
       "10. 1627.76487130173\n",
       "11. 1634.0538028891\n",
       "12. 1638.36930208035\n",
       "13. 1639.30306166764\n",
       "14. 1639.98092316123\n",
       "15. 1640.01980381054\n",
       "16. 1643.05060370255\n",
       "17. 1643.2117533095\n",
       "18. 1643.94050811975\n",
       "19. 1646.55802686061\n",
       "20. 1648.59001282694\n",
       "21. 1649.66797097579\n",
       "22. 1657.85647829695\n",
       "23. 1657.87552619602\n",
       "24. 1661.91545144182\n",
       "25. 1662.72293624634\n",
       "26. 1665.00546517775\n",
       "27. 1666.70019484454\n",
       "28. 1674.02052933516\n",
       "\n",
       "\n"
      ],
      "text/plain": [
       " [1] 1612.394 1614.664 1614.851 1614.938 1618.404 1621.229 1624.101 1625.161\n",
       " [9] 1626.931 1627.765 1634.054 1638.369 1639.303 1639.981 1640.020 1643.051\n",
       "[17] 1643.212 1643.941 1646.558 1648.590 1649.668 1657.856 1657.876 1661.915\n",
       "[25] 1662.723 1665.005 1666.700 1674.021"
      ]
     },
     "metadata": {},
     "output_type": "display_data"
    },
    {
     "data": {
      "text/html": [
       "<style>\n",
       ".list-inline {list-style: none; margin:0; padding: 0}\n",
       ".list-inline>li {display: inline-block}\n",
       ".list-inline>li:not(:last-child)::after {content: \"\\00b7\"; padding: 0 .5ex}\n",
       "</style>\n",
       "<ol class=list-inline><li>5</li><li>5</li><li>6</li><li>7</li><li>8</li><li>8</li><li>8</li><li>9</li><li>7</li><li>8</li><li>7</li><li>7</li><li>7</li><li>6</li><li>7</li><li>7</li><li>8</li><li>9</li><li>9</li><li>8</li><li>8</li><li>5</li><li>6</li><li>6</li><li>6</li><li>5</li><li>6</li><li>5</li></ol>\n"
      ],
      "text/latex": [
       "\\begin{enumerate*}\n",
       "\\item 5\n",
       "\\item 5\n",
       "\\item 6\n",
       "\\item 7\n",
       "\\item 8\n",
       "\\item 8\n",
       "\\item 8\n",
       "\\item 9\n",
       "\\item 7\n",
       "\\item 8\n",
       "\\item 7\n",
       "\\item 7\n",
       "\\item 7\n",
       "\\item 6\n",
       "\\item 7\n",
       "\\item 7\n",
       "\\item 8\n",
       "\\item 9\n",
       "\\item 9\n",
       "\\item 8\n",
       "\\item 8\n",
       "\\item 5\n",
       "\\item 6\n",
       "\\item 6\n",
       "\\item 6\n",
       "\\item 5\n",
       "\\item 6\n",
       "\\item 5\n",
       "\\end{enumerate*}\n"
      ],
      "text/markdown": [
       "1. 5\n",
       "2. 5\n",
       "3. 6\n",
       "4. 7\n",
       "5. 8\n",
       "6. 8\n",
       "7. 8\n",
       "8. 9\n",
       "9. 7\n",
       "10. 8\n",
       "11. 7\n",
       "12. 7\n",
       "13. 7\n",
       "14. 6\n",
       "15. 7\n",
       "16. 7\n",
       "17. 8\n",
       "18. 9\n",
       "19. 9\n",
       "20. 8\n",
       "21. 8\n",
       "22. 5\n",
       "23. 6\n",
       "24. 6\n",
       "25. 6\n",
       "26. 5\n",
       "27. 6\n",
       "28. 5\n",
       "\n",
       "\n"
      ],
      "text/plain": [
       " [1] 5 5 6 7 8 8 8 9 7 8 7 7 7 6 7 7 8 9 9 8 8 5 6 6 6 5 6 5"
      ]
     },
     "metadata": {},
     "output_type": "display_data"
    },
    {
     "data": {
      "text/html": [
       "<style>\n",
       ".list-inline {list-style: none; margin:0; padding: 0}\n",
       ".list-inline>li {display: inline-block}\n",
       ".list-inline>li:not(:last-child)::after {content: \"\\00b7\"; padding: 0 .5ex}\n",
       "</style>\n",
       "<ol class=list-inline><li>13.2549766232785</li><li>11.4113278392672</li><li>13.2232163215529</li><li>18.4751127883258</li><li>16.7720221943146</li><li>18.0301101160464</li><li>15.5115681341099</li><li>14.4920552035699</li><li>13.345183546747</li><li>16.5073725577811</li><li>13.3175083676601</li><li>9.26238718511968</li><li>9.36586032092191</li><li>13.7421371261541</li><li>14.6139801584075</li><li>11.8013124795259</li><li>13.3655819113965</li><li>14.1052824026642</li><li>16.1308296691907</li><li>14.7205618124465</li><li>15.2339656294969</li><li>12.2290144446463</li><li>15.557024480263</li><li>13.3462155452953</li><li>14.0167823770603</li><li>11.9277906175816</li><li>11.3918707840189</li><li>5.86792965425684</li></ol>\n"
      ],
      "text/latex": [
       "\\begin{enumerate*}\n",
       "\\item 13.2549766232785\n",
       "\\item 11.4113278392672\n",
       "\\item 13.2232163215529\n",
       "\\item 18.4751127883258\n",
       "\\item 16.7720221943146\n",
       "\\item 18.0301101160464\n",
       "\\item 15.5115681341099\n",
       "\\item 14.4920552035699\n",
       "\\item 13.345183546747\n",
       "\\item 16.5073725577811\n",
       "\\item 13.3175083676601\n",
       "\\item 9.26238718511968\n",
       "\\item 9.36586032092191\n",
       "\\item 13.7421371261541\n",
       "\\item 14.6139801584075\n",
       "\\item 11.8013124795259\n",
       "\\item 13.3655819113965\n",
       "\\item 14.1052824026642\n",
       "\\item 16.1308296691907\n",
       "\\item 14.7205618124465\n",
       "\\item 15.2339656294969\n",
       "\\item 12.2290144446463\n",
       "\\item 15.557024480263\n",
       "\\item 13.3462155452953\n",
       "\\item 14.0167823770603\n",
       "\\item 11.9277906175816\n",
       "\\item 11.3918707840189\n",
       "\\item 5.86792965425684\n",
       "\\end{enumerate*}\n"
      ],
      "text/markdown": [
       "1. 13.2549766232785\n",
       "2. 11.4113278392672\n",
       "3. 13.2232163215529\n",
       "4. 18.4751127883258\n",
       "5. 16.7720221943146\n",
       "6. 18.0301101160464\n",
       "7. 15.5115681341099\n",
       "8. 14.4920552035699\n",
       "9. 13.345183546747\n",
       "10. 16.5073725577811\n",
       "11. 13.3175083676601\n",
       "12. 9.26238718511968\n",
       "13. 9.36586032092191\n",
       "14. 13.7421371261541\n",
       "15. 14.6139801584075\n",
       "16. 11.8013124795259\n",
       "17. 13.3655819113965\n",
       "18. 14.1052824026642\n",
       "19. 16.1308296691907\n",
       "20. 14.7205618124465\n",
       "21. 15.2339656294969\n",
       "22. 12.2290144446463\n",
       "23. 15.557024480263\n",
       "24. 13.3462155452953\n",
       "25. 14.0167823770603\n",
       "26. 11.9277906175816\n",
       "27. 11.3918707840189\n",
       "28. 5.86792965425684\n",
       "\n",
       "\n"
      ],
      "text/plain": [
       " [1] 13.254977 11.411328 13.223216 18.475113 16.772022 18.030110 15.511568\n",
       " [8] 14.492055 13.345184 16.507373 13.317508  9.262387  9.365860 13.742137\n",
       "[15] 14.613980 11.801312 13.365582 14.105282 16.130830 14.720562 15.233966\n",
       "[22] 12.229014 15.557024 13.346216 14.016782 11.927791 11.391871  5.867930"
      ]
     },
     "metadata": {},
     "output_type": "display_data"
    },
    {
     "data": {
      "text/html": [
       "<style>\n",
       ".list-inline {list-style: none; margin:0; padding: 0}\n",
       ".list-inline>li {display: inline-block}\n",
       ".list-inline>li:not(:last-child)::after {content: \"\\00b7\"; padding: 0 .5ex}\n",
       "</style>\n",
       "<ol class=list-inline><li>1625.64853928581</li><li>1626.0750040707</li><li>1628.07379349097</li><li>1633.41353286926</li><li>1635.17610247361</li><li>1639.25901868106</li><li>1639.6124418448</li><li>1639.65320565318</li><li>1640.27578681937</li><li>1644.27224385952</li><li>1647.37131125676</li><li>1647.63168926547</li><li>1648.66892198856</li><li>1653.72306028738</li><li>1654.63378396895</li><li>1654.85191618208</li><li>1656.5773352209</li><li>1658.04579052241</li><li>1662.6888565298</li><li>1663.31057463939</li><li>1664.90193660529</li><li>1670.0854927416</li><li>1673.43255067628</li><li>1675.26166698712</li><li>1676.7397186234</li><li>1676.93325579533</li><li>1678.09206562856</li><li>1679.88845898942</li></ol>\n"
      ],
      "text/latex": [
       "\\begin{enumerate*}\n",
       "\\item 1625.64853928581\n",
       "\\item 1626.0750040707\n",
       "\\item 1628.07379349097\n",
       "\\item 1633.41353286926\n",
       "\\item 1635.17610247361\n",
       "\\item 1639.25901868106\n",
       "\\item 1639.6124418448\n",
       "\\item 1639.65320565318\n",
       "\\item 1640.27578681937\n",
       "\\item 1644.27224385952\n",
       "\\item 1647.37131125676\n",
       "\\item 1647.63168926547\n",
       "\\item 1648.66892198856\n",
       "\\item 1653.72306028738\n",
       "\\item 1654.63378396895\n",
       "\\item 1654.85191618208\n",
       "\\item 1656.5773352209\n",
       "\\item 1658.04579052241\n",
       "\\item 1662.6888565298\n",
       "\\item 1663.31057463939\n",
       "\\item 1664.90193660529\n",
       "\\item 1670.0854927416\n",
       "\\item 1673.43255067628\n",
       "\\item 1675.26166698712\n",
       "\\item 1676.7397186234\n",
       "\\item 1676.93325579533\n",
       "\\item 1678.09206562856\n",
       "\\item 1679.88845898942\n",
       "\\end{enumerate*}\n"
      ],
      "text/markdown": [
       "1. 1625.64853928581\n",
       "2. 1626.0750040707\n",
       "3. 1628.07379349097\n",
       "4. 1633.41353286926\n",
       "5. 1635.17610247361\n",
       "6. 1639.25901868106\n",
       "7. 1639.6124418448\n",
       "8. 1639.65320565318\n",
       "9. 1640.27578681937\n",
       "10. 1644.27224385952\n",
       "11. 1647.37131125676\n",
       "12. 1647.63168926547\n",
       "13. 1648.66892198856\n",
       "14. 1653.72306028738\n",
       "15. 1654.63378396895\n",
       "16. 1654.85191618208\n",
       "17. 1656.5773352209\n",
       "18. 1658.04579052241\n",
       "19. 1662.6888565298\n",
       "20. 1663.31057463939\n",
       "21. 1664.90193660529\n",
       "22. 1670.0854927416\n",
       "23. 1673.43255067628\n",
       "24. 1675.26166698712\n",
       "25. 1676.7397186234\n",
       "26. 1676.93325579533\n",
       "27. 1678.09206562856\n",
       "28. 1679.88845898942\n",
       "\n",
       "\n"
      ],
      "text/plain": [
       " [1] 1625.649 1626.075 1628.074 1633.414 1635.176 1639.259 1639.612 1639.653\n",
       " [9] 1640.276 1644.272 1647.371 1647.632 1648.669 1653.723 1654.634 1654.852\n",
       "[17] 1656.577 1658.046 1662.689 1663.311 1664.902 1670.085 1673.433 1675.262\n",
       "[25] 1676.740 1676.933 1678.092 1679.888"
      ]
     },
     "metadata": {},
     "output_type": "display_data"
    }
   ],
   "source": [
    "exp2_res_2 = exp2(k, 30, t2, 10000)\n",
    "\n",
    "length(exp2_res_2$event_task_recieve)\n",
    "\n",
    "print(\"1) вектор времен поступления программ на сервер\")\n",
    "print(\"2) вектор размеров очереди, когда приходит i-ая присланная программа. Первый всегда 0\")\n",
    "print(\"3) вектор времен ожидания завершения i-й присланной программы с учетом ожидания в очереди\")\n",
    "print(\"4) вектор времен, когда сервер заканчивает обработку i-й присланной программы\")\n",
    "print(paste0('[', as.character(1), ':', as.character(2*k), \"] ===============================================================================\"))\n",
    "exp2_res_2$event_task_recieve[1:(2*k)]\n",
    "exp2_res_2$event_queue_size[1:(2*k)]\n",
    "exp2_res_2$event_wait_time[1:(2*k)]\n",
    "exp2_res_2$event_server_free[1:(2*k)]\n",
    "\n",
    "print(paste0('[', as.character(55*k+1), ':', as.character(57*k), \"] ===============================================================================\"))\n",
    "\n",
    "exp2_res_2$event_task_recieve[(55*k+1):(57*k)]\n",
    "exp2_res_2$event_queue_size[(55*k+1):(57*k)]\n",
    "exp2_res_2$event_wait_time[(55*k+1):(57*k)]\n",
    "exp2_res_2$event_server_free[(55*k+1):(57*k)]"
   ]
  },
  {
   "attachments": {},
   "cell_type": "markdown",
   "metadata": {},
   "source": [
    "Теперь размер очереди не растет до бесконечности. Можно сравнить с теоретическим решением. "
   ]
  },
  {
   "attachments": {},
   "cell_type": "markdown",
   "metadata": {},
   "source": [
    "> вероятность того, что программа не будет выполнена сразу же, как только она \n",
    "поступила на терминал\n",
    "\n",
    "Это вероятность того, что размер очереди в момент поступления программы будет не 0\n",
    "\n",
    "\n",
    "> среднее время до получения пользователем результатов реализации;\n",
    "\n",
    "Это среднее из вектора `event_wait_time`. Это\n",
    "- либо время выполнения программы, если размер очереди 0\n",
    "- либо время ожидания + время выполнения программы, если размер очереди не 0.\n",
    "\n",
    "> среднее количество программ, ожидающих выполнения на сервере\n",
    "\n",
    "Это средний размер очереди"
   ]
  },
  {
   "cell_type": "code",
   "execution_count": 16,
   "metadata": {
    "vscode": {
     "languageId": "r"
    }
   },
   "outputs": [
    {
     "data": {
      "text/html": [
       "0.926114285714286"
      ],
      "text/latex": [
       "0.926114285714286"
      ],
      "text/markdown": [
       "0.926114285714286"
      ],
      "text/plain": [
       "[1] 0.9261143"
      ]
     },
     "metadata": {},
     "output_type": "display_data"
    },
    {
     "data": {
      "text/html": [
       "26.1935669845904"
      ],
      "text/latex": [
       "26.1935669845904"
      ],
      "text/markdown": [
       "26.1935669845904"
      ],
      "text/plain": [
       "[1] 26.19357"
      ]
     },
     "metadata": {},
     "output_type": "display_data"
    },
    {
     "data": {
      "text/html": [
       "13.0416642857143"
      ],
      "text/latex": [
       "13.0416642857143"
      ],
      "text/markdown": [
       "13.0416642857143"
      ],
      "text/plain": [
       "[1] 13.04166"
      ]
     },
     "metadata": {},
     "output_type": "display_data"
    }
   ],
   "source": [
    "# вероятность того, что программа не будет выполнена сразу же, как только она \n",
    "# поступила на терминал\n",
    "length(\n",
    "  exp2_res_2$event_queue_size[exp2_res_2$event_queue_size > 0]\n",
    ") / length(exp2_res_2$event_queue_size)\n",
    "\n",
    "# # среднее время до получения пользователем результатов реализации\n",
    "mean(exp2_res_2$event_wait_time)\n",
    "\n",
    "# # среднее количество программ, ожидающих выполнения на сервере.\n",
    "mean(exp2_res_2$event_queue_size)"
   ]
  },
  {
   "attachments": {},
   "cell_type": "markdown",
   "metadata": {},
   "source": [
    "\n",
    "### Теоретическое решение\n",
    "\n",
    "$t_1 = 30$ мин.\n",
    "\n",
    "$t_2 = 2$ мин.\n",
    "\n",
    "Абсолютная пропускная способность системы $\\mu = \\frac{1}{{\\lambda}_2} = {t_2} = 2 $ мин.\n",
    "\n",
    "Суммарная интенсивность потока заявок от программистов $\\lambda_\\Sigma = \\frac{k}{t_1} = \\frac{14}{30}$ заявок / мин.\n",
    "\n",
    "Интенсивность нагрузки $\\rho=\\frac{\\lambda_\\Sigma}{\\mu} = {\\frac{14}{30}}:{\\frac{1}{2}} = \\frac{14}{15} < 1$.\n",
    "\n",
    "Вероятность того, что очередь пуста при условии $\\underline{\\rho<1}$:\n",
    "$$P_0=1-\\rho = 1 - \\frac{14}{15} = \\frac{1}{15} = 0,067$$\n",
    "\n",
    "1. Вероятность того, что программа не будет выполнена сразу же, как только она поступила на терминал:\n",
    "$$P|_{Q>0} = 1 - P_0 = 1 - \\frac{1}{15} = \\frac{14}{15} = 0,933$$\n",
    "\n",
    "2. Cреднее время до получения пользователем результатов реализации\n",
    "$$W_{\\text{оч}}=T_{\\text{сист}}-\\frac{1}{\\mu}=\\frac{\\rho^2}{\\lambda(1-\\rho)} = \\frac{(\\frac{14}{15})^2}{\\frac{14}{30}\\cdot(1-\\frac{14}{15})} = 28$$\n",
    "\n",
    "\n",
    "3. Cреднее количество программ, ожидающих выполнения на сервере = средняя длина очереди (формула 29 лекция 3):\n",
    "$$L_{\\text{оч}}=\\lambda\\cdot W_{\\text{оч}}=\\frac{\\rho^2}{(1-\\rho)} = \\frac{(\\frac{14}{15})^2}{(1-\\frac{14}{15})} = \\frac{196}{15} = 13,06$$\n",
    "\n",
    "\n",
    "\n"
   ]
  },
  {
   "attachments": {},
   "cell_type": "markdown",
   "metadata": {},
   "source": [
    "## Дополнительное Задание "
   ]
  },
  {
   "cell_type": "code",
   "execution_count": 17,
   "metadata": {
    "vscode": {
     "languageId": "r"
    }
   },
   "outputs": [
    {
     "data": {
      "text/html": [
       "<table class=\"dataframe\">\n",
       "<caption>A data.frame: 1 × 5</caption>\n",
       "<thead>\n",
       "\t<tr><th scope=col>p1</th><th scope=col>p2</th><th scope=col>p3</th><th scope=col>k</th><th scope=col>m</th></tr>\n",
       "\t<tr><th scope=col>&lt;dbl&gt;</th><th scope=col>&lt;dbl&gt;</th><th scope=col>&lt;dbl&gt;</th><th scope=col>&lt;int&gt;</th><th scope=col>&lt;int&gt;</th></tr>\n",
       "</thead>\n",
       "<tbody>\n",
       "\t<tr><td>0.3352767</td><td>0.518532</td><td>0.1461912</td><td>7</td><td>4</td></tr>\n",
       "</tbody>\n",
       "</table>\n"
      ],
      "text/latex": [
       "A data.frame: 1 × 5\n",
       "\\begin{tabular}{lllll}\n",
       " p1 & p2 & p3 & k & m\\\\\n",
       " <dbl> & <dbl> & <dbl> & <int> & <int>\\\\\n",
       "\\hline\n",
       "\t 0.3352767 & 0.518532 & 0.1461912 & 7 & 4\\\\\n",
       "\\end{tabular}\n"
      ],
      "text/markdown": [
       "\n",
       "A data.frame: 1 × 5\n",
       "\n",
       "| p1 &lt;dbl&gt; | p2 &lt;dbl&gt; | p3 &lt;dbl&gt; | k &lt;int&gt; | m &lt;int&gt; |\n",
       "|---|---|---|---|---|\n",
       "| 0.3352767 | 0.518532 | 0.1461912 | 7 | 4 |\n",
       "\n"
      ],
      "text/plain": [
       "  p1        p2       p3        k m\n",
       "1 0.3352767 0.518532 0.1461912 7 4"
      ]
     },
     "metadata": {},
     "output_type": "display_data"
    }
   ],
   "source": [
    "Variant<-6\n",
    "set.seed(Variant) \n",
    "pp<-runif(3)\n",
    "p1<-pp[1]/sum(pp)\n",
    "p2<-pp[2]/sum(pp)\n",
    "p3<-pp[3]/sum(pp)\n",
    "k<-sample(c(4:8),1)\n",
    "m<-sample(c(1:k),1)\n",
    "View(data.frame(p1,p2,p3,k,m))\n",
    "p<-c(p1,p2,p3)"
   ]
  },
  {
   "attachments": {},
   "cell_type": "markdown",
   "metadata": {},
   "source": [
    "### Теоретическое решение\n",
    "\n",
    "Это однородная Марковская цепь. Любые 2 состояния связаны друг с другом связью вида:\n",
    "\n",
    "![Граф состояний](./assets/state-graph-2.png)\n",
    "\n",
    "Число возможных состояний при k шагах = $2k+1$ - k шагов влево от $х_0$, k шагов вправо, и сам $х_0$.\n",
    "\n",
    "- Вероятность отстаться на месте - $p_1$, поэтому на диагоналях матрицы вероятностей переходов будет значение $p_1$.\n",
    "- Любое перемещение вниз от диагонали (в сторону увеличения абсциссы) происходит с вероятностью $p_2$\n",
    "- Любое перемещение вверх от диагонали (в сторону уменьшения абсциссы) происходит с вероятностью $p_3$\n",
    "\n",
    "начальное состояние - $x_0$ задается вектором $p_0 = (0...0, 1, 0...0)$, где суммаре число нулей слева и справа от 1 равно $k$"
   ]
  },
  {
   "cell_type": "code",
   "execution_count": 29,
   "metadata": {
    "vscode": {
     "languageId": "r"
    }
   },
   "outputs": [
    {
     "data": {
      "text/html": [
       "<table class=\"dataframe\">\n",
       "<caption>A matrix: 1 × 15 of type dbl</caption>\n",
       "<tbody>\n",
       "\t<tr><td>0</td><td>0</td><td>0</td><td>0</td><td>0</td><td>0</td><td>0</td><td>1</td><td>0</td><td>0</td><td>0</td><td>0</td><td>0</td><td>0</td><td>0</td></tr>\n",
       "</tbody>\n",
       "</table>\n"
      ],
      "text/latex": [
       "A matrix: 1 × 15 of type dbl\n",
       "\\begin{tabular}{lllllllllllllll}\n",
       "\t 0 & 0 & 0 & 0 & 0 & 0 & 0 & 1 & 0 & 0 & 0 & 0 & 0 & 0 & 0\\\\\n",
       "\\end{tabular}\n"
      ],
      "text/markdown": [
       "\n",
       "A matrix: 1 × 15 of type dbl\n",
       "\n",
       "| 0 | 0 | 0 | 0 | 0 | 0 | 0 | 1 | 0 | 0 | 0 | 0 | 0 | 0 | 0 |\n",
       "\n"
      ],
      "text/plain": [
       "     [,1] [,2] [,3] [,4] [,5] [,6] [,7] [,8] [,9] [,10] [,11] [,12] [,13] [,14]\n",
       "[1,] 0    0    0    0    0    0    0    1    0    0     0     0     0     0    \n",
       "     [,15]\n",
       "[1,] 0    "
      ]
     },
     "metadata": {},
     "output_type": "display_data"
    },
    {
     "data": {
      "text/html": [
       "<table class=\"dataframe\">\n",
       "<caption>A matrix: 15 × 15 of type dbl</caption>\n",
       "<tbody>\n",
       "\t<tr><td>0.3352767</td><td>0.5185320</td><td>0.0000000</td><td>0.0000000</td><td>0.0000000</td><td>0.0000000</td><td>0.0000000</td><td>0.0000000</td><td>0.0000000</td><td>0.0000000</td><td>0.0000000</td><td>0.0000000</td><td>0.0000000</td><td>0.0000000</td><td>0.0000000</td></tr>\n",
       "\t<tr><td>0.1461912</td><td>0.3352767</td><td>0.5185320</td><td>0.0000000</td><td>0.0000000</td><td>0.0000000</td><td>0.0000000</td><td>0.0000000</td><td>0.0000000</td><td>0.0000000</td><td>0.0000000</td><td>0.0000000</td><td>0.0000000</td><td>0.0000000</td><td>0.0000000</td></tr>\n",
       "\t<tr><td>0.0000000</td><td>0.1461912</td><td>0.3352767</td><td>0.5185320</td><td>0.0000000</td><td>0.0000000</td><td>0.0000000</td><td>0.0000000</td><td>0.0000000</td><td>0.0000000</td><td>0.0000000</td><td>0.0000000</td><td>0.0000000</td><td>0.0000000</td><td>0.0000000</td></tr>\n",
       "\t<tr><td>0.0000000</td><td>0.0000000</td><td>0.1461912</td><td>0.3352767</td><td>0.5185320</td><td>0.0000000</td><td>0.0000000</td><td>0.0000000</td><td>0.0000000</td><td>0.0000000</td><td>0.0000000</td><td>0.0000000</td><td>0.0000000</td><td>0.0000000</td><td>0.0000000</td></tr>\n",
       "\t<tr><td>0.0000000</td><td>0.0000000</td><td>0.0000000</td><td>0.1461912</td><td>0.3352767</td><td>0.5185320</td><td>0.0000000</td><td>0.0000000</td><td>0.0000000</td><td>0.0000000</td><td>0.0000000</td><td>0.0000000</td><td>0.0000000</td><td>0.0000000</td><td>0.0000000</td></tr>\n",
       "\t<tr><td>0.0000000</td><td>0.0000000</td><td>0.0000000</td><td>0.0000000</td><td>0.1461912</td><td>0.3352767</td><td>0.5185320</td><td>0.0000000</td><td>0.0000000</td><td>0.0000000</td><td>0.0000000</td><td>0.0000000</td><td>0.0000000</td><td>0.0000000</td><td>0.0000000</td></tr>\n",
       "\t<tr><td>0.0000000</td><td>0.0000000</td><td>0.0000000</td><td>0.0000000</td><td>0.0000000</td><td>0.1461912</td><td>0.3352767</td><td>0.5185320</td><td>0.0000000</td><td>0.0000000</td><td>0.0000000</td><td>0.0000000</td><td>0.0000000</td><td>0.0000000</td><td>0.0000000</td></tr>\n",
       "\t<tr><td>0.0000000</td><td>0.0000000</td><td>0.0000000</td><td>0.0000000</td><td>0.0000000</td><td>0.0000000</td><td>0.1461912</td><td>0.3352767</td><td>0.5185320</td><td>0.0000000</td><td>0.0000000</td><td>0.0000000</td><td>0.0000000</td><td>0.0000000</td><td>0.0000000</td></tr>\n",
       "\t<tr><td>0.0000000</td><td>0.0000000</td><td>0.0000000</td><td>0.0000000</td><td>0.0000000</td><td>0.0000000</td><td>0.0000000</td><td>0.1461912</td><td>0.3352767</td><td>0.5185320</td><td>0.0000000</td><td>0.0000000</td><td>0.0000000</td><td>0.0000000</td><td>0.0000000</td></tr>\n",
       "\t<tr><td>0.0000000</td><td>0.0000000</td><td>0.0000000</td><td>0.0000000</td><td>0.0000000</td><td>0.0000000</td><td>0.0000000</td><td>0.0000000</td><td>0.1461912</td><td>0.3352767</td><td>0.5185320</td><td>0.0000000</td><td>0.0000000</td><td>0.0000000</td><td>0.0000000</td></tr>\n",
       "\t<tr><td>0.0000000</td><td>0.0000000</td><td>0.0000000</td><td>0.0000000</td><td>0.0000000</td><td>0.0000000</td><td>0.0000000</td><td>0.0000000</td><td>0.0000000</td><td>0.1461912</td><td>0.3352767</td><td>0.5185320</td><td>0.0000000</td><td>0.0000000</td><td>0.0000000</td></tr>\n",
       "\t<tr><td>0.0000000</td><td>0.0000000</td><td>0.0000000</td><td>0.0000000</td><td>0.0000000</td><td>0.0000000</td><td>0.0000000</td><td>0.0000000</td><td>0.0000000</td><td>0.0000000</td><td>0.1461912</td><td>0.3352767</td><td>0.5185320</td><td>0.0000000</td><td>0.0000000</td></tr>\n",
       "\t<tr><td>0.0000000</td><td>0.0000000</td><td>0.0000000</td><td>0.0000000</td><td>0.0000000</td><td>0.0000000</td><td>0.0000000</td><td>0.0000000</td><td>0.0000000</td><td>0.0000000</td><td>0.0000000</td><td>0.1461912</td><td>0.3352767</td><td>0.5185320</td><td>0.0000000</td></tr>\n",
       "\t<tr><td>0.0000000</td><td>0.0000000</td><td>0.0000000</td><td>0.0000000</td><td>0.0000000</td><td>0.0000000</td><td>0.0000000</td><td>0.0000000</td><td>0.0000000</td><td>0.0000000</td><td>0.0000000</td><td>0.0000000</td><td>0.1461912</td><td>0.3352767</td><td>0.5185320</td></tr>\n",
       "\t<tr><td>0.0000000</td><td>0.0000000</td><td>0.0000000</td><td>0.0000000</td><td>0.0000000</td><td>0.0000000</td><td>0.0000000</td><td>0.0000000</td><td>0.0000000</td><td>0.0000000</td><td>0.0000000</td><td>0.0000000</td><td>0.0000000</td><td>0.1461912</td><td>0.3352767</td></tr>\n",
       "</tbody>\n",
       "</table>\n"
      ],
      "text/latex": [
       "A matrix: 15 × 15 of type dbl\n",
       "\\begin{tabular}{lllllllllllllll}\n",
       "\t 0.3352767 & 0.5185320 & 0.0000000 & 0.0000000 & 0.0000000 & 0.0000000 & 0.0000000 & 0.0000000 & 0.0000000 & 0.0000000 & 0.0000000 & 0.0000000 & 0.0000000 & 0.0000000 & 0.0000000\\\\\n",
       "\t 0.1461912 & 0.3352767 & 0.5185320 & 0.0000000 & 0.0000000 & 0.0000000 & 0.0000000 & 0.0000000 & 0.0000000 & 0.0000000 & 0.0000000 & 0.0000000 & 0.0000000 & 0.0000000 & 0.0000000\\\\\n",
       "\t 0.0000000 & 0.1461912 & 0.3352767 & 0.5185320 & 0.0000000 & 0.0000000 & 0.0000000 & 0.0000000 & 0.0000000 & 0.0000000 & 0.0000000 & 0.0000000 & 0.0000000 & 0.0000000 & 0.0000000\\\\\n",
       "\t 0.0000000 & 0.0000000 & 0.1461912 & 0.3352767 & 0.5185320 & 0.0000000 & 0.0000000 & 0.0000000 & 0.0000000 & 0.0000000 & 0.0000000 & 0.0000000 & 0.0000000 & 0.0000000 & 0.0000000\\\\\n",
       "\t 0.0000000 & 0.0000000 & 0.0000000 & 0.1461912 & 0.3352767 & 0.5185320 & 0.0000000 & 0.0000000 & 0.0000000 & 0.0000000 & 0.0000000 & 0.0000000 & 0.0000000 & 0.0000000 & 0.0000000\\\\\n",
       "\t 0.0000000 & 0.0000000 & 0.0000000 & 0.0000000 & 0.1461912 & 0.3352767 & 0.5185320 & 0.0000000 & 0.0000000 & 0.0000000 & 0.0000000 & 0.0000000 & 0.0000000 & 0.0000000 & 0.0000000\\\\\n",
       "\t 0.0000000 & 0.0000000 & 0.0000000 & 0.0000000 & 0.0000000 & 0.1461912 & 0.3352767 & 0.5185320 & 0.0000000 & 0.0000000 & 0.0000000 & 0.0000000 & 0.0000000 & 0.0000000 & 0.0000000\\\\\n",
       "\t 0.0000000 & 0.0000000 & 0.0000000 & 0.0000000 & 0.0000000 & 0.0000000 & 0.1461912 & 0.3352767 & 0.5185320 & 0.0000000 & 0.0000000 & 0.0000000 & 0.0000000 & 0.0000000 & 0.0000000\\\\\n",
       "\t 0.0000000 & 0.0000000 & 0.0000000 & 0.0000000 & 0.0000000 & 0.0000000 & 0.0000000 & 0.1461912 & 0.3352767 & 0.5185320 & 0.0000000 & 0.0000000 & 0.0000000 & 0.0000000 & 0.0000000\\\\\n",
       "\t 0.0000000 & 0.0000000 & 0.0000000 & 0.0000000 & 0.0000000 & 0.0000000 & 0.0000000 & 0.0000000 & 0.1461912 & 0.3352767 & 0.5185320 & 0.0000000 & 0.0000000 & 0.0000000 & 0.0000000\\\\\n",
       "\t 0.0000000 & 0.0000000 & 0.0000000 & 0.0000000 & 0.0000000 & 0.0000000 & 0.0000000 & 0.0000000 & 0.0000000 & 0.1461912 & 0.3352767 & 0.5185320 & 0.0000000 & 0.0000000 & 0.0000000\\\\\n",
       "\t 0.0000000 & 0.0000000 & 0.0000000 & 0.0000000 & 0.0000000 & 0.0000000 & 0.0000000 & 0.0000000 & 0.0000000 & 0.0000000 & 0.1461912 & 0.3352767 & 0.5185320 & 0.0000000 & 0.0000000\\\\\n",
       "\t 0.0000000 & 0.0000000 & 0.0000000 & 0.0000000 & 0.0000000 & 0.0000000 & 0.0000000 & 0.0000000 & 0.0000000 & 0.0000000 & 0.0000000 & 0.1461912 & 0.3352767 & 0.5185320 & 0.0000000\\\\\n",
       "\t 0.0000000 & 0.0000000 & 0.0000000 & 0.0000000 & 0.0000000 & 0.0000000 & 0.0000000 & 0.0000000 & 0.0000000 & 0.0000000 & 0.0000000 & 0.0000000 & 0.1461912 & 0.3352767 & 0.5185320\\\\\n",
       "\t 0.0000000 & 0.0000000 & 0.0000000 & 0.0000000 & 0.0000000 & 0.0000000 & 0.0000000 & 0.0000000 & 0.0000000 & 0.0000000 & 0.0000000 & 0.0000000 & 0.0000000 & 0.1461912 & 0.3352767\\\\\n",
       "\\end{tabular}\n"
      ],
      "text/markdown": [
       "\n",
       "A matrix: 15 × 15 of type dbl\n",
       "\n",
       "| 0.3352767 | 0.5185320 | 0.0000000 | 0.0000000 | 0.0000000 | 0.0000000 | 0.0000000 | 0.0000000 | 0.0000000 | 0.0000000 | 0.0000000 | 0.0000000 | 0.0000000 | 0.0000000 | 0.0000000 |\n",
       "| 0.1461912 | 0.3352767 | 0.5185320 | 0.0000000 | 0.0000000 | 0.0000000 | 0.0000000 | 0.0000000 | 0.0000000 | 0.0000000 | 0.0000000 | 0.0000000 | 0.0000000 | 0.0000000 | 0.0000000 |\n",
       "| 0.0000000 | 0.1461912 | 0.3352767 | 0.5185320 | 0.0000000 | 0.0000000 | 0.0000000 | 0.0000000 | 0.0000000 | 0.0000000 | 0.0000000 | 0.0000000 | 0.0000000 | 0.0000000 | 0.0000000 |\n",
       "| 0.0000000 | 0.0000000 | 0.1461912 | 0.3352767 | 0.5185320 | 0.0000000 | 0.0000000 | 0.0000000 | 0.0000000 | 0.0000000 | 0.0000000 | 0.0000000 | 0.0000000 | 0.0000000 | 0.0000000 |\n",
       "| 0.0000000 | 0.0000000 | 0.0000000 | 0.1461912 | 0.3352767 | 0.5185320 | 0.0000000 | 0.0000000 | 0.0000000 | 0.0000000 | 0.0000000 | 0.0000000 | 0.0000000 | 0.0000000 | 0.0000000 |\n",
       "| 0.0000000 | 0.0000000 | 0.0000000 | 0.0000000 | 0.1461912 | 0.3352767 | 0.5185320 | 0.0000000 | 0.0000000 | 0.0000000 | 0.0000000 | 0.0000000 | 0.0000000 | 0.0000000 | 0.0000000 |\n",
       "| 0.0000000 | 0.0000000 | 0.0000000 | 0.0000000 | 0.0000000 | 0.1461912 | 0.3352767 | 0.5185320 | 0.0000000 | 0.0000000 | 0.0000000 | 0.0000000 | 0.0000000 | 0.0000000 | 0.0000000 |\n",
       "| 0.0000000 | 0.0000000 | 0.0000000 | 0.0000000 | 0.0000000 | 0.0000000 | 0.1461912 | 0.3352767 | 0.5185320 | 0.0000000 | 0.0000000 | 0.0000000 | 0.0000000 | 0.0000000 | 0.0000000 |\n",
       "| 0.0000000 | 0.0000000 | 0.0000000 | 0.0000000 | 0.0000000 | 0.0000000 | 0.0000000 | 0.1461912 | 0.3352767 | 0.5185320 | 0.0000000 | 0.0000000 | 0.0000000 | 0.0000000 | 0.0000000 |\n",
       "| 0.0000000 | 0.0000000 | 0.0000000 | 0.0000000 | 0.0000000 | 0.0000000 | 0.0000000 | 0.0000000 | 0.1461912 | 0.3352767 | 0.5185320 | 0.0000000 | 0.0000000 | 0.0000000 | 0.0000000 |\n",
       "| 0.0000000 | 0.0000000 | 0.0000000 | 0.0000000 | 0.0000000 | 0.0000000 | 0.0000000 | 0.0000000 | 0.0000000 | 0.1461912 | 0.3352767 | 0.5185320 | 0.0000000 | 0.0000000 | 0.0000000 |\n",
       "| 0.0000000 | 0.0000000 | 0.0000000 | 0.0000000 | 0.0000000 | 0.0000000 | 0.0000000 | 0.0000000 | 0.0000000 | 0.0000000 | 0.1461912 | 0.3352767 | 0.5185320 | 0.0000000 | 0.0000000 |\n",
       "| 0.0000000 | 0.0000000 | 0.0000000 | 0.0000000 | 0.0000000 | 0.0000000 | 0.0000000 | 0.0000000 | 0.0000000 | 0.0000000 | 0.0000000 | 0.1461912 | 0.3352767 | 0.5185320 | 0.0000000 |\n",
       "| 0.0000000 | 0.0000000 | 0.0000000 | 0.0000000 | 0.0000000 | 0.0000000 | 0.0000000 | 0.0000000 | 0.0000000 | 0.0000000 | 0.0000000 | 0.0000000 | 0.1461912 | 0.3352767 | 0.5185320 |\n",
       "| 0.0000000 | 0.0000000 | 0.0000000 | 0.0000000 | 0.0000000 | 0.0000000 | 0.0000000 | 0.0000000 | 0.0000000 | 0.0000000 | 0.0000000 | 0.0000000 | 0.0000000 | 0.1461912 | 0.3352767 |\n",
       "\n"
      ],
      "text/plain": [
       "      [,1]      [,2]      [,3]      [,4]      [,5]      [,6]      [,7]     \n",
       " [1,] 0.3352767 0.5185320 0.0000000 0.0000000 0.0000000 0.0000000 0.0000000\n",
       " [2,] 0.1461912 0.3352767 0.5185320 0.0000000 0.0000000 0.0000000 0.0000000\n",
       " [3,] 0.0000000 0.1461912 0.3352767 0.5185320 0.0000000 0.0000000 0.0000000\n",
       " [4,] 0.0000000 0.0000000 0.1461912 0.3352767 0.5185320 0.0000000 0.0000000\n",
       " [5,] 0.0000000 0.0000000 0.0000000 0.1461912 0.3352767 0.5185320 0.0000000\n",
       " [6,] 0.0000000 0.0000000 0.0000000 0.0000000 0.1461912 0.3352767 0.5185320\n",
       " [7,] 0.0000000 0.0000000 0.0000000 0.0000000 0.0000000 0.1461912 0.3352767\n",
       " [8,] 0.0000000 0.0000000 0.0000000 0.0000000 0.0000000 0.0000000 0.1461912\n",
       " [9,] 0.0000000 0.0000000 0.0000000 0.0000000 0.0000000 0.0000000 0.0000000\n",
       "[10,] 0.0000000 0.0000000 0.0000000 0.0000000 0.0000000 0.0000000 0.0000000\n",
       "[11,] 0.0000000 0.0000000 0.0000000 0.0000000 0.0000000 0.0000000 0.0000000\n",
       "[12,] 0.0000000 0.0000000 0.0000000 0.0000000 0.0000000 0.0000000 0.0000000\n",
       "[13,] 0.0000000 0.0000000 0.0000000 0.0000000 0.0000000 0.0000000 0.0000000\n",
       "[14,] 0.0000000 0.0000000 0.0000000 0.0000000 0.0000000 0.0000000 0.0000000\n",
       "[15,] 0.0000000 0.0000000 0.0000000 0.0000000 0.0000000 0.0000000 0.0000000\n",
       "      [,8]      [,9]      [,10]     [,11]     [,12]     [,13]     [,14]    \n",
       " [1,] 0.0000000 0.0000000 0.0000000 0.0000000 0.0000000 0.0000000 0.0000000\n",
       " [2,] 0.0000000 0.0000000 0.0000000 0.0000000 0.0000000 0.0000000 0.0000000\n",
       " [3,] 0.0000000 0.0000000 0.0000000 0.0000000 0.0000000 0.0000000 0.0000000\n",
       " [4,] 0.0000000 0.0000000 0.0000000 0.0000000 0.0000000 0.0000000 0.0000000\n",
       " [5,] 0.0000000 0.0000000 0.0000000 0.0000000 0.0000000 0.0000000 0.0000000\n",
       " [6,] 0.0000000 0.0000000 0.0000000 0.0000000 0.0000000 0.0000000 0.0000000\n",
       " [7,] 0.5185320 0.0000000 0.0000000 0.0000000 0.0000000 0.0000000 0.0000000\n",
       " [8,] 0.3352767 0.5185320 0.0000000 0.0000000 0.0000000 0.0000000 0.0000000\n",
       " [9,] 0.1461912 0.3352767 0.5185320 0.0000000 0.0000000 0.0000000 0.0000000\n",
       "[10,] 0.0000000 0.1461912 0.3352767 0.5185320 0.0000000 0.0000000 0.0000000\n",
       "[11,] 0.0000000 0.0000000 0.1461912 0.3352767 0.5185320 0.0000000 0.0000000\n",
       "[12,] 0.0000000 0.0000000 0.0000000 0.1461912 0.3352767 0.5185320 0.0000000\n",
       "[13,] 0.0000000 0.0000000 0.0000000 0.0000000 0.1461912 0.3352767 0.5185320\n",
       "[14,] 0.0000000 0.0000000 0.0000000 0.0000000 0.0000000 0.1461912 0.3352767\n",
       "[15,] 0.0000000 0.0000000 0.0000000 0.0000000 0.0000000 0.0000000 0.1461912\n",
       "      [,15]    \n",
       " [1,] 0.0000000\n",
       " [2,] 0.0000000\n",
       " [3,] 0.0000000\n",
       " [4,] 0.0000000\n",
       " [5,] 0.0000000\n",
       " [6,] 0.0000000\n",
       " [7,] 0.0000000\n",
       " [8,] 0.0000000\n",
       " [9,] 0.0000000\n",
       "[10,] 0.0000000\n",
       "[11,] 0.0000000\n",
       "[12,] 0.0000000\n",
       "[13,] 0.0000000\n",
       "[14,] 0.5185320\n",
       "[15,] 0.3352767"
      ]
     },
     "metadata": {},
     "output_type": "display_data"
    }
   ],
   "source": [
    "p0 <- matrix(c(rep(0, times=k), 1, rep(0, times=k)), nrow=1, byrow=T)\n",
    "P <- matrix(0, nrow = 2*k+1, ncol = 2*k+1)\n",
    "for (i in 1:(2*k+1)) {\n",
    "  for (j in 1:(2*k+1)) {\n",
    "    if (i == j) {\n",
    "      P[i,j] = p1\n",
    "    }\n",
    "    if ((i - j) == 1) {\n",
    "      P[i,j] = p3\n",
    "    }\n",
    "    if ((j - i) == 1) {\n",
    "      P[i,j] = p2\n",
    "    }\n",
    "  }\n",
    "}\n",
    "p0;\n",
    "P"
   ]
  },
  {
   "cell_type": "code",
   "execution_count": 39,
   "metadata": {
    "vscode": {
     "languageId": "r"
    }
   },
   "outputs": [
    {
     "data": {
      "text/html": [
       "<table class=\"dataframe\">\n",
       "<caption>A matrix: 1 × 15 of type dbl</caption>\n",
       "<tbody>\n",
       "\t<tr><td>1.427082e-06</td><td>2.291021e-05</td><td>0.0001930601</td><td>0.001090076</td><td>0.004554315</td><td>0.01477312</td><td>0.03821679</td><td>0.07989167</td><td>0.1355528</td><td>0.1858578</td><td>0.2032292</td><td>0.1725338</td><td>0.1083838</td><td>0.04561998</td><td>0.01007927</td></tr>\n",
       "</tbody>\n",
       "</table>\n"
      ],
      "text/latex": [
       "A matrix: 1 × 15 of type dbl\n",
       "\\begin{tabular}{lllllllllllllll}\n",
       "\t 1.427082e-06 & 2.291021e-05 & 0.0001930601 & 0.001090076 & 0.004554315 & 0.01477312 & 0.03821679 & 0.07989167 & 0.1355528 & 0.1858578 & 0.2032292 & 0.1725338 & 0.1083838 & 0.04561998 & 0.01007927\\\\\n",
       "\\end{tabular}\n"
      ],
      "text/markdown": [
       "\n",
       "A matrix: 1 × 15 of type dbl\n",
       "\n",
       "| 1.427082e-06 | 2.291021e-05 | 0.0001930601 | 0.001090076 | 0.004554315 | 0.01477312 | 0.03821679 | 0.07989167 | 0.1355528 | 0.1858578 | 0.2032292 | 0.1725338 | 0.1083838 | 0.04561998 | 0.01007927 |\n",
       "\n"
      ],
      "text/plain": [
       "     [,1]         [,2]         [,3]         [,4]        [,5]        [,6]      \n",
       "[1,] 1.427082e-06 2.291021e-05 0.0001930601 0.001090076 0.004554315 0.01477312\n",
       "     [,7]       [,8]       [,9]      [,10]     [,11]     [,12]     [,13]    \n",
       "[1,] 0.03821679 0.07989167 0.1355528 0.1858578 0.2032292 0.1725338 0.1083838\n",
       "     [,14]      [,15]     \n",
       "[1,] 0.04561998 0.01007927"
      ]
     },
     "metadata": {},
     "output_type": "display_data"
    },
    {
     "data": {
      "text/html": [
       "0.835892634180522"
      ],
      "text/latex": [
       "0.835892634180522"
      ],
      "text/markdown": [
       "0.835892634180522"
      ],
      "text/plain": [
       "[1] 0.8358926"
      ]
     },
     "metadata": {},
     "output_type": "display_data"
    }
   ],
   "source": [
    "library(matrixcalc)\n",
    "\n",
    "Pk <- p0 %*% matrix.power(P,k)\n",
    "\n",
    "Pk; sum(Pk[(k-m):(k+1+m)])"
   ]
  },
  {
   "attachments": {},
   "cell_type": "markdown",
   "metadata": {},
   "source": [
    "### Статистический эксперимент"
   ]
  },
  {
   "cell_type": "code",
   "execution_count": 21,
   "metadata": {
    "vscode": {
     "languageId": "r"
    }
   },
   "outputs": [
    {
     "data": {
      "text/plain": [
       "\n",
       "   1    2    3 \n",
       "0.30 0.55 0.15 "
      ]
     },
     "metadata": {},
     "output_type": "display_data"
    }
   ],
   "source": [
    "Dice3<-function() {\n",
    "  r = runif(1); dice <- 0; i <- 0\n",
    "  while ((i < length(p)) & (dice < r)) {\n",
    "    i <- i + 1\n",
    "    dice <- dice + p[i]\n",
    "  }\n",
    "  return(i)\n",
    "}\n",
    "\n",
    "# проверка\n",
    "table(vapply(\n",
    "  vector(mode=\"integer\", length = 100),\n",
    "  function(arg) Dice3(),\n",
    "  numeric(1)\n",
    "))/100\n"
   ]
  },
  {
   "cell_type": "code",
   "execution_count": 22,
   "metadata": {
    "vscode": {
     "languageId": "r"
    }
   },
   "outputs": [],
   "source": [
    "exp3 <- function(m, k, N) {\n",
    "  hit_cnt <- 0\n",
    "  for (i in 1:N) {\n",
    "    x <- 0 \n",
    "    for (i in 1:k) {\n",
    "      state = Dice3()\n",
    "      if (state == 2) {\n",
    "        x = x + 1\n",
    "      }\n",
    "      if (state == 3) {\n",
    "        x = x - 1\n",
    "      }\n",
    "    }\n",
    "    if (abs(x) > m) {\n",
    "      next\n",
    "    }\n",
    "    hit_cnt <- hit_cnt + 1\n",
    "  }\n",
    "  return(hit_cnt/N)\n",
    "}"
   ]
  },
  {
   "cell_type": "code",
   "execution_count": 23,
   "metadata": {
    "vscode": {
     "languageId": "r"
    }
   },
   "outputs": [
    {
     "data": {
      "text/html": [
       "0.8334"
      ],
      "text/latex": [
       "0.8334"
      ],
      "text/markdown": [
       "0.8334"
      ],
      "text/plain": [
       "[1] 0.8334"
      ]
     },
     "metadata": {},
     "output_type": "display_data"
    }
   ],
   "source": [
    "N <- 5000\n",
    "exp3(m, k, N)"
   ]
  },
  {
   "attachments": {},
   "cell_type": "markdown",
   "metadata": {},
   "source": [
    "Результаты совпадают"
   ]
  }
 ],
 "metadata": {
  "kernelspec": {
   "display_name": "R",
   "language": "R",
   "name": "ir"
  },
  "language_info": {
   "codemirror_mode": "r",
   "file_extension": ".r",
   "mimetype": "text/x-r-source",
   "name": "R",
   "pygments_lexer": "r",
   "version": "4.2.2"
  },
  "orig_nbformat": 4,
  "vscode": {
   "interpreter": {
    "hash": "d30f6642c16da02dd7b43597fe551a357cbfb985f34bfd637dca7cca39187826"
   }
  }
 },
 "nbformat": 4,
 "nbformat_minor": 2
}
