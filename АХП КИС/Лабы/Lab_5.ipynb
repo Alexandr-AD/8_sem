{
 "cells": [
  {
   "cell_type": "markdown",
   "id": "34c6f2b1",
   "metadata": {},
   "source": [
    "# Алёшин А.Д.\n",
    "# ИУ5-83Б"
   ]
  },
  {
   "cell_type": "markdown",
   "id": "e39f2446",
   "metadata": {},
   "source": [
    "# Лабораторная работа 5. Рекомендации по формализации и расчетам характеристик подсистем КИС в виде разомкнутых или замкнутых стохастических моделей"
   ]
  },
  {
   "cell_type": "markdown",
   "id": "f32ba584",
   "metadata": {},
   "source": [
    "## Задание 1."
   ]
  },
  {
   "cell_type": "markdown",
   "id": "60fdc69a",
   "metadata": {},
   "source": [
    "Для  одноканальной системы массового обслуживания с ограничением на длину очереди $m$ составьте дифференциальные уравнения для вероятностей нахождения в заданных состояниях в зависимости от времени. Найдите эти вероятности при определенном в соответствии с вариантом значении $t$, а также при $t\\rightarrow \\infty$. Канал иногда может выходить из строя. Заявка, которая обслуживается в момент отказа канала ставится в очередь, если там есть места, в противном случае она покидает систему необслуженной. Входящий поток, поток обслуживания, поток отказов и поток восстановления простейшие с соответствующими интенсивностями $\\lambda, \\mu, \\nu, \\gamma$. Количество клиентов, от которых могут поступать заявки на обслуживание $k$. Начальные условия $P_0(0)=1$. \n",
    "    \n",
    "    Найти (теоретически и экспериментально):\n",
    "    \n",
    "     - вероятность простоя;\n",
    "     - вероятность образования очереди;     \n",
    "     - абсолютную пропускную способность;     \n",
    "     - среднюю длину очереди;     \n",
    "     - среднее время нахождения заявок в системе;     \n",
    "     - среднее число заявок в системе.     \n",
    "     - среднее время нахождения в очереди."
   ]
  },
  {
   "cell_type": "code",
   "execution_count": 1,
   "id": "f7e321f5",
   "metadata": {},
   "outputs": [
    {
     "name": "stdout",
     "output_type": "stream",
     "text": [
      "[1] \"--------------\"\n"
     ]
    },
    {
     "data": {
      "text/html": [
       "<table>\n",
       "<thead><tr><th scope=col>lambda</th><th scope=col>mu</th><th scope=col>nu</th><th scope=col>gamma</th><th scope=col>k</th><th scope=col>m</th><th scope=col>t</th></tr></thead>\n",
       "<tbody>\n",
       "\t<tr><td>0.3721239</td><td>0.5728534</td><td>0.2016819</td><td>0.9082078</td><td>inf      </td><td>12       </td><td>0.9446753</td></tr>\n",
       "</tbody>\n",
       "</table>\n"
      ],
      "text/latex": [
       "\\begin{tabular}{r|lllllll}\n",
       " lambda & mu & nu & gamma & k & m & t\\\\\n",
       "\\hline\n",
       "\t 0.3721239 & 0.5728534 & 0.2016819 & 0.9082078 & inf       & 12        & 0.9446753\\\\\n",
       "\\end{tabular}\n"
      ],
      "text/markdown": [
       "\n",
       "| lambda | mu | nu | gamma | k | m | t |\n",
       "|---|---|---|---|---|---|---|\n",
       "| 0.3721239 | 0.5728534 | 0.2016819 | 0.9082078 | inf       | 12        | 0.9446753 |\n",
       "\n"
      ],
      "text/plain": [
       "  lambda    mu        nu        gamma     k   m  t        \n",
       "1 0.3721239 0.5728534 0.2016819 0.9082078 inf 12 0.9446753"
      ]
     },
     "metadata": {},
     "output_type": "display_data"
    }
   ],
   "source": [
    "Variant<-1\n",
    "set.seed(Variant) \n",
    "m<-sample(c(4:18),1)\n",
    "mu<-runif(1)\n",
    "lambda<-runif(1)\n",
    "if (lambda>mu)\n",
    "  {current<-lambda; \n",
    "   lambda<-mu; \n",
    "   mu<-current}\n",
    "gamma<-runif(1)\n",
    "nu<-runif(1)\n",
    "if (gamma<nu)\n",
    "  {current<-nu; \n",
    "   nu<-gamma; \n",
    "   gamma<-current}\n",
    "if (sample(c(0:1),1)) \n",
    "{k<-sample(c(4:7),1)} else {k<-\"inf\"}\n",
    "t<-runif(1)\n",
    "print(\"--------------\")\n",
    "data.frame(lambda, mu, nu, gamma, k, m, t)"
   ]
  },
  {
   "cell_type": "code",
   "execution_count": null,
   "id": "62dc5d95",
   "metadata": {},
   "outputs": [],
   "source": []
  }
 ],
 "metadata": {
  "kernelspec": {
   "display_name": "R",
   "language": "R",
   "name": "ir"
  },
  "language_info": {
   "codemirror_mode": "r",
   "file_extension": ".r",
   "mimetype": "text/x-r-source",
   "name": "R",
   "pygments_lexer": "r",
   "version": "3.6.1"
  }
 },
 "nbformat": 4,
 "nbformat_minor": 5
}
