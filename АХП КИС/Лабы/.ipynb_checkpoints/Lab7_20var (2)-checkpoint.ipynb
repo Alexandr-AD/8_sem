{
 "cells": [
  {
   "cell_type": "markdown",
   "metadata": {
    "id": "8AH6JPAX0t7p"
   },
   "source": [
    "# Лабораторная работа 7. Управление ресурсами в однопроцессорной системе с неоднородными заявками"
   ]
  },
  {
   "cell_type": "markdown",
   "metadata": {
    "id": "LLBRf__e0wuN"
   },
   "source": [
    "## Задание 1.\n",
    "\n",
    "В однопроцессорную  систему случайным образом поступают на выполнение $m$ разных типов программ, отличающихся известной трудоемкостью $Q_1, Q_2, \\ldots, Q_m$. Входящий поток простейший с интенсивностью $\\lambda$.\n",
    "\n",
    "Представив данную систему как одноканальную СМО с неограниченной очередью, вычислить среднее время обслуживания программ, считая длительность обслуживания случайной величиной (теоретически и экспериментально).\n",
    "\n",
    "Реализовать алгоритм SPT, выбирая из очереди заявки в соответствии с их приоритетом по трудоемкости. Рассчитать среднее время обслуживания программ. Сравнить полученные результаты.\n",
    "\n",
    "Реализовать алгоритм RR при заданном кванте времени $q$. Оценить среднее время обслуживания программ. Сравнить полученные результаты. Выяснить, как влияет величина кванта на среднее время обслуживания программ."
   ]
  },
  {
   "cell_type": "code",
   "execution_count": 19,
   "metadata": {
    "colab": {
     "base_uri": "https://localhost:8080/",
     "height": 166
    },
    "id": "elzThb1c0yQ7",
    "outputId": "83dd076d-6d4a-42e7-a2cf-8ac9b566688c"
   },
   "outputs": [
    {
     "data": {
      "text/html": [
       "<table>\n",
       "<thead><tr><th scope=col>m</th><th scope=col>q</th><th scope=col>lambda</th></tr></thead>\n",
       "<tbody>\n",
       "\t<tr><td>14       </td><td>4        </td><td>0.8070354</td></tr>\n",
       "</tbody>\n",
       "</table>\n"
      ],
      "text/latex": [
       "\\begin{tabular}{r|lll}\n",
       " m & q & lambda\\\\\n",
       "\\hline\n",
       "\t 14        & 4         & 0.8070354\\\\\n",
       "\\end{tabular}\n"
      ],
      "text/markdown": [
       "\n",
       "| m | q | lambda |\n",
       "|---|---|---|\n",
       "| 14        | 4         | 0.8070354 |\n",
       "\n"
      ],
      "text/plain": [
       "  m  q lambda   \n",
       "1 14 4 0.8070354"
      ]
     },
     "metadata": {},
     "output_type": "display_data"
    },
    {
     "name": "stdout",
     "output_type": "stream",
     "text": [
      " [1]  0.4856891  0.4659842  1.4535621  9.6498951  4.0985402  1.7989428\n",
      " [7]  3.1885583  0.4901533  4.6357838  2.5400995  4.1253452 14.7464474\n",
      "[13]  3.5151439  3.4508132\n"
     ]
    }
   ],
   "source": [
    "Variant<-1\n",
    "set.seed(Variant) \n",
    "m<-sample(c(6:20),1)\n",
    "lambda<-runif(1,0.1, 2)\n",
    "# lambda = lambda - 1.4 # поменял по согласованию с преподавателем\n",
    "Q<-rexp(m,0.3)\n",
    "q<-sample(c(1:4),1)\n",
    "data.frame(m,q, lambda)\n",
    "print(Q)\n"
   ]
  },
  {
   "cell_type": "markdown",
   "metadata": {
    "id": "nYhZpGPDULZu"
   },
   "source": [
    "### Одноканальная система с неограниченной очередью: теоретически"
   ]
  },
  {
   "cell_type": "markdown",
   "metadata": {
    "id": "32ZC7hFCUbrG"
   },
   "source": [
    "**среднее время обслуживания**\n",
    "$$T_{\\text{сист}}=\\frac{1}{\\mu(1-\\rho)}\\tag{лек-3}$$\n",
    "здесь $\\rho=\\frac{\\lambda}{\\mu}$"
   ]
  },
  {
   "cell_type": "code",
   "execution_count": 17,
   "metadata": {
    "colab": {
     "base_uri": "https://localhost:8080/",
     "height": 0
    },
    "id": "nnkZFOPhUjqU",
    "outputId": "15c10eaf-fa73-4d55-b264-3d08d779f786"
   },
   "outputs": [
    {
     "data": {
      "text/html": [
       "0.207559419293956"
      ],
      "text/latex": [
       "0.207559419293956"
      ],
      "text/markdown": [
       "0.207559419293956"
      ],
      "text/plain": [
       "[1] 0.2075594"
      ]
     },
     "metadata": {},
     "output_type": "display_data"
    },
    {
     "data": {
      "text/html": [
       "21.1209644007501"
      ],
      "text/latex": [
       "21.1209644007501"
      ],
      "text/markdown": [
       "21.1209644007501"
      ],
      "text/plain": [
       "[1] 21.12096"
      ]
     },
     "metadata": {},
     "output_type": "display_data"
    }
   ],
   "source": [
    "mu <- 1/(sum(Q)/length(Q))\n",
    "mu\n",
    "T1_t <- 1/(mu*(1-(lambda/mu)))\n",
    "T1_t"
   ]
  },
  {
   "cell_type": "markdown",
   "metadata": {
    "id": "9UJ9TakeVFGD"
   },
   "source": [
    "### Одноканальная система с неограниченной очередью: экспериментально"
   ]
  },
  {
   "cell_type": "code",
   "execution_count": 12,
   "metadata": {
    "id": "7P_KdwDaVZnc"
   },
   "outputs": [],
   "source": [
    "Exp_time <- 100000 \n",
    "cur_time <- 0\n",
    "times_requests<-rexp(1,lambda)\n",
    "times_execute<-0\n",
    "queue <- c()\n",
    "times_in_syst <- c()"
   ]
  },
  {
   "cell_type": "code",
   "execution_count": 13,
   "metadata": {
    "id": "WcEy9-CbXMTU"
   },
   "outputs": [],
   "source": [
    "while (cur_time < Exp_time) {\n",
    "  if (length(queue) != 0 && cur_time > times_execute) {\n",
    "    times_in_syst = append(times_in_syst, cur_time - queue[1])\n",
    "\n",
    "    if (length(queue) < 2) {\n",
    "      queue = c()\n",
    "    } else {\n",
    "      queue = queue[2:length(queue)]\n",
    "    }\n",
    "\n",
    "    if (length(queue) > 0) {\n",
    "      times_execute = cur_time + rexp(1, mu)\n",
    "    }\n",
    "  }\n",
    "\n",
    "  if (cur_time > times_requests) {\n",
    "    if (length(queue) == 0) {\n",
    "      times_execute = cur_time + rexp(1, mu)\n",
    "    }\n",
    "\n",
    "    queue = append(queue, cur_time)\n",
    "    times_requests = cur_time + rexp(1, lambda)\n",
    "  }\n",
    "\n",
    "  cur_time = cur_time + 0.01\n",
    "}"
   ]
  },
  {
   "cell_type": "code",
   "execution_count": 14,
   "metadata": {
    "colab": {
     "base_uri": "https://localhost:8080/",
     "height": 0
    },
    "id": "vUIOV-ZwXPmb",
    "outputId": "2ad5eb29-e9f7-4f0f-b70f-5837ff44404f"
   },
   "outputs": [
    {
     "data": {
      "text/html": [
       "33969.939969324"
      ],
      "text/latex": [
       "33969.939969324"
      ],
      "text/markdown": [
       "33969.939969324"
      ],
      "text/plain": [
       "[1] 33969.94"
      ]
     },
     "metadata": {},
     "output_type": "display_data"
    }
   ],
   "source": [
    "T1_e <- sum(times_in_syst) / length(times_in_syst)\n",
    "T1_e"
   ]
  },
  {
   "cell_type": "markdown",
   "metadata": {
    "id": "AaIsGD2mffSg"
   },
   "source": [
    "### Алгоритм SPT"
   ]
  },
  {
   "cell_type": "code",
   "execution_count": 31,
   "metadata": {
    "id": "fLBF3ghsfjZM"
   },
   "outputs": [],
   "source": [
    "Exp_time <- 100000\n",
    "cur_time <- 0\n",
    "times_requests<-rexp(1,lambda)\n",
    "times_execute=-1\n",
    "times_in_syst <- c()\n",
    "queue <- list()"
   ]
  },
  {
   "cell_type": "code",
   "execution_count": 32,
   "metadata": {
    "id": "PnUIV3pDfqt0"
   },
   "outputs": [],
   "source": [
    "while (cur_time < Exp_time) {\n",
    "  if (times_execute != -1 && cur_time > times_execute) {\n",
    "    times_execute = -1\n",
    "\n",
    "    if (length(queue) > 0) {\n",
    "      min_i <- 0\n",
    "      min_qi <- 0\n",
    "      min_t <- 0\n",
    "\n",
    "      if (length(queue) == 1) {\n",
    "        min_i = 1\n",
    "        min_qi = queue[[1]][1]\n",
    "        min_t = queue[[1]][2]\n",
    "      } else {\n",
    "        min_el <- queue[[1]]\n",
    "        min_index <- 1\n",
    "        for (i in 2:length(queue)) {\n",
    "          if (queue[[i]][1] < min_el[1]) {\n",
    "            min_el = queue[[i]]\n",
    "            min_index = i\n",
    "          }\n",
    "        }\n",
    "\n",
    "        min_i = min_index\n",
    "        min_qi = min_el[1]\n",
    "        min_t = min_el[2]\n",
    "      }\n",
    "\n",
    "      \n",
    "      if (length(queue) < 2) {\n",
    "        queue = list()\n",
    "      } else {\n",
    "        new_queue <- list()\n",
    "        if (min_i > 1) {\n",
    "          for (i in 1:(min_i-1)) {\n",
    "            new_queue [[length(new_queue )+1]] = queue[[i]]\n",
    "          }\n",
    "        }\n",
    "\n",
    "        if (length(queue) > min_i) {\n",
    "          for (i in (min_i+1):length(queue)) {\n",
    "            new_queue [[length(new_queue )+1]] = queue[[i]]\n",
    "          }\n",
    "        }\n",
    "      }\n",
    "      queue = new_queue\n",
    "\n",
    "      \n",
    "      times_execute = cur_time + min_qi\n",
    "      times_in_syst = append(times_in_syst, (cur_time - min_t) + min_qi)\n",
    "    }\n",
    "  }\n",
    "\n",
    "  if (cur_time > times_requests) {\n",
    "    if (times_execute == -1) {\n",
    "      times_execute = cur_time + sample(Q, 1, replace=T)\n",
    "\n",
    "      times_in_syst = append(times_in_syst, times_execute - cur_time)\n",
    "    } else {\n",
    "      queue[[length(queue)+1]] = c(sample(Q, 1, replace=T), cur_time)\n",
    "    }\n",
    "    \n",
    "    times_requests = cur_time + rexp(1, lambda)\n",
    "  }\n",
    "\n",
    "  cur_time = cur_time + 0.01\n",
    "}"
   ]
  },
  {
   "cell_type": "code",
   "execution_count": 33,
   "metadata": {
    "colab": {
     "base_uri": "https://localhost:8080/",
     "height": 0
    },
    "id": "ac4Dv7XVfx0D",
    "outputId": "35c1bcd0-b9b6-45a8-a068-cc818c18d9db"
   },
   "outputs": [
    {
     "data": {
      "text/html": [
       "32.5318831244863"
      ],
      "text/latex": [
       "32.5318831244863"
      ],
      "text/markdown": [
       "32.5318831244863"
      ],
      "text/plain": [
       "[1] 32.53188"
      ]
     },
     "metadata": {},
     "output_type": "display_data"
    }
   ],
   "source": [
    "T2 <- sum(times_in_syst) / length(times_in_syst)\n",
    "T2"
   ]
  },
  {
   "cell_type": "markdown",
   "metadata": {
    "id": "z7upjhtSYkjs"
   },
   "source": [
    "### Алгоритм RR"
   ]
  },
  {
   "cell_type": "code",
   "execution_count": 34,
   "metadata": {
    "id": "j_V14aOjYuKq"
   },
   "outputs": [],
   "source": [
    "Exp_time <- 100000\n",
    "cur_time <- 0\n",
    "times_requests<-rexp(1,lambda)\n",
    "times_execute<-c()\n",
    "times_in_syst <- c()\n",
    "queue <- list()\n",
    "\n",
    "q_cur <- 0\n",
    "\n",
    "# сравнение квантов\n",
    "# q <- 1 # 2, 3, 4"
   ]
  },
  {
   "cell_type": "code",
   "execution_count": 35,
   "metadata": {
    "id": "CGWKkxX5ZEUM"
   },
   "outputs": [],
   "source": [
    "DeleteElemOfList<-function(lst, index) {\n",
    "  new_lst <- list()\n",
    "  if (length(lst) < 2) return (new_lst)\n",
    "\n",
    "  if (index > 1) {\n",
    "    for (i in 1:(index-1)) {\n",
    "      new_lst[[length(new_lst)+1]] = lst[[i]]\n",
    "    }\n",
    "  }\n",
    "\n",
    "  if (length(lst) > index) {\n",
    "    for (i in (index+1):length(lst)) {\n",
    "      new_lst[[length(new_lst)+1]] = lst[[i]]\n",
    "    }\n",
    "  }\n",
    "\n",
    "  return (new_lst)\n",
    "}\n",
    "\n",
    "while (cur_time < Exp_time) {\n",
    "  if (cur_time > q_cur && length(queue) && length(times_execute)) {\n",
    "    deleted_element <- times_execute\n",
    "    queue[[length(queue)+1]] = c(deleted_element[1] - q, deleted_element[2])\n",
    "    \n",
    "    qq <- queue[[1]]\n",
    "    queue = DeleteElemOfList(queue, 1)\n",
    "    times_execute = c(qq[1], qq[2], qq[1] + cur_time)\n",
    "    q_cur<- (cur_time + q)\n",
    "  }\n",
    "\n",
    "\n",
    "  if (cur_time> times_execute[3] && length(times_execute)) {\n",
    "    times_in_syst = append(times_in_syst, cur_time- times_execute[2])\n",
    "    times_execute = c()\n",
    "\n",
    "    if (length(queue)) {\n",
    "      qq <- queue[[1]]\n",
    "      queue = DeleteElemOfList(queue, 1)\n",
    "      times_execute = c(qq[1], qq[2], qq[1] + cur_time)\n",
    "      q_cur<- (cur_time+ q)\n",
    "      \n",
    "    }\n",
    "  }\n",
    "\n",
    "  if (cur_time > times_requests) {\n",
    "    if (length(times_execute)) {\n",
    "      queue[[length(queue)+1]] = c(sample(Q, 1, replace=T), cur_time)\n",
    "    } else {\n",
    "      element <- sample(Q, 1, replace=T)\n",
    "      times_execute = c(element, cur_time, element+cur_time)\n",
    "      q_cur<- (cur_time + q)\n",
    "    }\n",
    "    \n",
    "    times_requests = cur_time+ rexp(1, lambda)\n",
    "  }\n",
    "\n",
    "  cur_time = cur_time + 0.01\n",
    "}"
   ]
  },
  {
   "cell_type": "code",
   "execution_count": 36,
   "metadata": {
    "colab": {
     "base_uri": "https://localhost:8080/",
     "height": 0
    },
    "id": "w6BQyf_9a54b",
    "outputId": "301ac97e-6be7-4339-81d6-0617bbffb3ba"
   },
   "outputs": [
    {
     "data": {
      "text/html": [
       "23.2906815862615"
      ],
      "text/latex": [
       "23.2906815862615"
      ],
      "text/markdown": [
       "23.2906815862615"
      ],
      "text/plain": [
       "[1] 23.29068"
      ]
     },
     "metadata": {},
     "output_type": "display_data"
    }
   ],
   "source": [
    "T3 <- sum(times_in_syst) / length(times_in_syst)\n",
    "T3"
   ]
  },
  {
   "cell_type": "markdown",
   "metadata": {
    "id": "eBp7O1SPk4Le"
   },
   "source": [
    "При тестировании квантов, то при малых значениях q, результат выходит не очень хорошим"
   ]
  },
  {
   "cell_type": "markdown",
   "metadata": {
    "id": "yb4G9_scjR6q"
   },
   "source": [
    "### Вывод"
   ]
  },
  {
   "cell_type": "markdown",
   "metadata": {
    "id": "lWoPM07SkFoQ"
   },
   "source": [
    "одноканальная с неограниченной очередью (эксперимент, теория)"
   ]
  },
  {
   "cell_type": "code",
   "execution_count": 37,
   "metadata": {
    "colab": {
     "base_uri": "https://localhost:8080/",
     "height": 52
    },
    "id": "pBBNcbUGkJiX",
    "outputId": "aea72de8-2b22-49e0-92a0-338c6dfcf368"
   },
   "outputs": [
    {
     "data": {
      "text/html": [
       "21.1209644007501"
      ],
      "text/latex": [
       "21.1209644007501"
      ],
      "text/markdown": [
       "21.1209644007501"
      ],
      "text/plain": [
       "[1] 21.12096"
      ]
     },
     "metadata": {},
     "output_type": "display_data"
    },
    {
     "data": {
      "text/html": [
       "20.9618628391257"
      ],
      "text/latex": [
       "20.9618628391257"
      ],
      "text/markdown": [
       "20.9618628391257"
      ],
      "text/plain": [
       "[1] 20.96186"
      ]
     },
     "metadata": {},
     "output_type": "display_data"
    }
   ],
   "source": [
    "T1_t; T1_e"
   ]
  },
  {
   "cell_type": "markdown",
   "metadata": {
    "id": "oK26pCs9kkV4"
   },
   "source": [
    "SPT"
   ]
  },
  {
   "cell_type": "code",
   "execution_count": 38,
   "metadata": {
    "colab": {
     "base_uri": "https://localhost:8080/",
     "height": 34
    },
    "id": "8XonbHxrkoXH",
    "outputId": "48475450-f500-47f4-d83e-585e6ce78c8f"
   },
   "outputs": [
    {
     "data": {
      "text/html": [
       "32.5318831244863"
      ],
      "text/latex": [
       "32.5318831244863"
      ],
      "text/markdown": [
       "32.5318831244863"
      ],
      "text/plain": [
       "[1] 32.53188"
      ]
     },
     "metadata": {},
     "output_type": "display_data"
    }
   ],
   "source": [
    "T2"
   ]
  },
  {
   "cell_type": "markdown",
   "metadata": {
    "id": "F24gEurWkmGh"
   },
   "source": [
    "RR"
   ]
  },
  {
   "cell_type": "code",
   "execution_count": 39,
   "metadata": {
    "colab": {
     "base_uri": "https://localhost:8080/",
     "height": 34
    },
    "id": "mImJvIgrkm-K",
    "outputId": "dcff4413-4a06-485b-b609-e56b90dca69d"
   },
   "outputs": [
    {
     "data": {
      "text/html": [
       "23.2906815862615"
      ],
      "text/latex": [
       "23.2906815862615"
      ],
      "text/markdown": [
       "23.2906815862615"
      ],
      "text/plain": [
       "[1] 23.29068"
      ]
     },
     "metadata": {},
     "output_type": "display_data"
    }
   ],
   "source": [
    "T3"
   ]
  },
  {
   "cell_type": "markdown",
   "metadata": {
    "id": "6t5YwRtFlIfp"
   },
   "source": [
    "Лучше всего справился метод RR"
   ]
  }
 ],
 "metadata": {
  "colab": {
   "collapsed_sections": [
    "nYhZpGPDULZu",
    "9UJ9TakeVFGD",
    "fWXRwl-NgPEP",
    "0yyr7NtQpVLk"
   ],
   "provenance": []
  },
  "kernelspec": {
   "display_name": "R",
   "language": "R",
   "name": "ir"
  },
  "language_info": {
   "codemirror_mode": "r",
   "file_extension": ".r",
   "mimetype": "text/x-r-source",
   "name": "R",
   "pygments_lexer": "r",
   "version": "3.6.1"
  }
 },
 "nbformat": 4,
 "nbformat_minor": 1
}
